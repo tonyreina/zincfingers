{
 "cells": [
  {
   "cell_type": "code",
   "execution_count": 1,
   "id": "52d5aaa4",
   "metadata": {},
   "outputs": [],
   "source": [
    "import pandas as pd\n",
    "import numpy as np"
   ]
  },
  {
   "cell_type": "code",
   "execution_count": 2,
   "id": "bf4cfd6f",
   "metadata": {},
   "outputs": [],
   "source": [
    "df = pd.read_excel('Persikov_binding_zf3.xlsx')"
   ]
  },
  {
   "cell_type": "markdown",
   "id": "bc5d7ffc",
   "metadata": {},
   "source": [
    "Minimal columns to include dna, f1, f2, f3"
   ]
  },
  {
   "cell_type": "code",
   "execution_count": 3,
   "id": "470becbe",
   "metadata": {},
   "outputs": [
    {
     "data": {
      "text/plain": [
       "array(['ctcgcgGGGgcggcc', 'ctcgatTGGgcggcc', 'ctcgatAAAgcggcc',\n",
       "       'ctcgatAACgcggcc', 'ctcgatAAGgcggcc', 'ctcgatAATgcggcc',\n",
       "       'ctcgatACAgcggcc', 'ctcgatACCgcggcc', 'ctcgatACGgcggcc',\n",
       "       'ctcgatACTgcggcc', 'ctcgatAGAgcggcc', 'ctcgatAGGgcggcc',\n",
       "       'ctcgatATAgcggcc', 'ctcgatATGgcggcc', 'ctcgatATTgcggcc',\n",
       "       'ctcgatAGTgcggcc', 'ctcgatTAGgcggcc', 'ctcgatCAAgcggcc',\n",
       "       'ctcgatCCAgcggcc', 'ctcgatCGAgcggcc', 'ctcgatCTAgcggcc',\n",
       "       'ctcgatCACgcggcc', 'ctcgatCCCgcggcc', 'ctcgatCGCgcggcc',\n",
       "       'ctcgatCTCgcggcc', 'ctcgatCAGgcggcc', 'ctcgatCCGgcggcc',\n",
       "       'ctcgatCGGgcggcc', 'ctcgatCTGgcggcc', 'ctcgatCATgcggcc',\n",
       "       'ctcgatCCTgcggcc', 'ctcgatCGTgcggcc', 'ctcgatCTTgcggcc',\n",
       "       'cccgcgGGGgcgtcc', 'cccgcgGGAgcgtcc', 'cccgcgGGTgcgtcc',\n",
       "       'cccgcgGGCgcgtcc', 'cccgcgGAGgcgtcc', 'cccgcgGAAgcgtcc',\n",
       "       'cccgcgGATgcgtcc', 'cccgcgGACgcgtcc', 'cccgcgGTGgcgtcc',\n",
       "       'cccgcgGTAgcgtcc', 'cccgcgGTTgcgtcc', 'cccgcgGTCgcgtcc',\n",
       "       'cccgcgGCGgcgtcc', 'cccgcgGCAgcgtcc', 'cccgcgGCTgcgtcc',\n",
       "       'cccgcgGCCgcgtcc', 'cccgcgTGGgcgtcc', '---TAGGGGGAA---',\n",
       "       '---GGGGAAAAA---', '---GGGGATAAA---', '---GTTGAAGAG---',\n",
       "       '---GGTTGAGCG---', 'tccCAGGGGGAAgtg', 'cctCAGGGGGACcaa',\n",
       "       'gtaCAAAGGGAAttg', 'gcaGATGGGGACagg', 'gccCATGGGGATaca',\n",
       "       'ggtGAGGGGGATgtg', 'acaCAGGGGACAgag', 'ccaGAGGGGGGGttg',\n",
       "       'gacTTGGGGGAAaag', 'gggGACGGGGATgtg', 'cccAAGGGGGACtct',\n",
       "       'gagAAAGGGGAGaaa', 'cagCCTGGGGAGcat', 'aggGCAGGGGAGtag',\n",
       "       'acaTTTGGGGATcca', '-gcgggggcga', '-gcgggggaga', '-gcgggtgcga',\n",
       "       '-gcgtgggcga', '-gagggggcga', '-GCGGGGGCGA', '-GCGGGTGAGC',\n",
       "       '-GCGGGGGCGC', '-CTGGGGGCGT', '-GCGGGGGCGG', '-GCGGGGGCCG',\n",
       "       '-GCGCGGGCGG', '-GCGGGGGCAA', '-GAGGGGGCG-', '-gcgggggcgg',\n",
       "       '-gcggcggcgg', '-gggggggcgg', '-gcgggggggg', '-gcgcgggcgg',\n",
       "       '-gcgtgggcgt', '-GCGTGGGCGG', '-gcgagggcgg', '-gcgtgggcgg',\n",
       "       '-gcggaggcgg', '-gcggtggcgg', '-gcgggcgcgg', '-gcgggagcgg',\n",
       "       '-gcgggtgcgg', '-gcgcccgcgg', '-gcgggggcgc', '-gcgtgggacc',\n",
       "       '-gcgtgggcac', '-gcgtgggcgc', '-gcgtgggtgc', '-gcgtggtcgc',\n",
       "       '-gcgtggacgc', '-gcgtgggagc', '-gcgtgggggc', '-gcgtgggccc',\n",
       "       '-gcgtgggctc', '-gcgtgggtac', '-gcgtgggtcc', '-gcgtgggttc',\n",
       "       '-gcgcaggcgt', '-gcgtgagcgt', '-gcggaagcgt', '-gcggatgcgt',\n",
       "       '-gcggacgcgt', '-gcggccgcgt', '-gcggtcgcgt', '-gcggcagcgt',\n",
       "       '-gcggctgcgt', '-gcgacggcgt', '-gcgatggcgt', '-gcggtagcgt',\n",
       "       '-gcgttggcgt', '-gcgccggcgt', '-gcggcggcgt', '-gcggtggcgt',\n",
       "       '-gcgactgcgt', '-gcgaaagcgt', '-gcgtttgcgt', '-gcgcctgcgt',\n",
       "       '-gcgcttgcgt', '-gcgttcgcgt', '-gcgagtgcgt', '-gcgcgagcgt',\n",
       "       '-gcgcatgcgt', '-gcgagagcgt', '-gcgagcgcgt', '-gcgaatgcgt',\n",
       "       '-gcgGGGgcgt', '-gcgTGGgcgt', '-gcgGTGgcgt', '-gcgGTAgcgt',\n",
       "       '-gcgTTAgcgt', '-gcgGTTgcgt', '-gcgGGAgcgt', '-gcgTGAgcgt',\n",
       "       '-gcgGAGgcgt', '-gcgGCGgcgt', '-gcgTAGgcgt', '-gcgTTGgcgt',\n",
       "       '-gcgTCGgcgt', '-gcgGATgcgt', '-gcgGACgcgt', '-gcgGAAgcgt',\n",
       "       '-gcgGCTgcgt', '-gcgtggtgtc', '-gcgttggcgc', '-ctgtgggcgc',\n",
       "       '-GCGTGGGAG-', '-GCGTGGGCG-', '-GCGTGGGTG-', '-ACGTGGGCG-',\n",
       "       '-GCGTAGGCG-', '-GTGTAGGCG-', '-GCGGGGGCG-', '-gcgtcggcgt',\n",
       "       '-gggtgggcgt', '-ccgtgggcgt', '-acgtgggcgt', '-acgtgggcat',\n",
       "       '-gagtgggagt', '-gcgcgggcgt', '-gagggggagt', '-gagggggagc',\n",
       "       '-GAGTGGGCG-', '-GTGTGGGCG-', '-GAGTAGGCG-', '-GCGTAGGAG-',\n",
       "       '-GCGTAGGTG-', '-ACGTAGGCG-', '-gcgggggcgt', '-gcgtaggtgt',\n",
       "       '-gcgtgggtgt', '-gcgtaggcgt', '-GAGTGGGTG-', '-GCGGGGGTG-',\n",
       "       '-GGGGTGGGGA', '-GGGGTGGAGA', '-ggggaagaag', '-GCGGGGGCAG',\n",
       "       '-GTAGGGGGCG', '-TCGGGGGCGG', '-GCGGGGGTGA', '-gcgtgggag-',\n",
       "       '-gcgtgggcg-', '-gcgtggggg-', '-gcgtgggtg-', '-gcgtgggca-',\n",
       "       '-gcgtgggcc-', '-gcgtgggct-', '-gaggcagaac', '-GTGGGGGCGG',\n",
       "       '-GTGGGGGAGG', '-GTGGGGGTGG', '-GCGTGGGCGC', '-GAGGGGGAGA',\n",
       "       '-GTGTGGGTGT', '-GCGCGGGCGA', '-gctataaaag', '-gggacatgtt',\n",
       "       '-aagggttcag', '-gcgAGGgcgt', '-gcgCGGgcgt', '-gcgATGgcgt',\n",
       "       '-gcgCTGgcgt', '-gcgACGgcgt', '-gcgCCGgcgt', '-GCGTAGGAGG',\n",
       "       '-gcgggggcg-', '-GAGGGGGCGC', '-ggggtgggg-', '-gcgtgggcat',\n",
       "       '-gcgtgggcct', '-gcgtgggctt', '-gagtgggcgt', '-gtgtgggcgt',\n",
       "       '-gcgtgggagt', '-gcgtgggggt', '-gcGGcggcgt', '-gcagcggcgt',\n",
       "       '-gcAGcggcgt', '-gcTGcggcgt', '-gcATcggcgt', '-gctgcggcgt',\n",
       "       '-gcCGcggcgt', '-gcCCcggcgt', '-gcTCcggcgt', '-gcGCcggcgt',\n",
       "       '-gcACcggcgt', '-gcGTcggcgt', '-gcGAcggcgt', '-gcTAcggcgt',\n",
       "       '-gcaccggcgt', '-gcTTcggcgt', '-gctccggcgt', '-gcCTcggcgt',\n",
       "       '-gcCAcggcgt', '-gcaacggcgt', '-gcAAcggcgt', '-gctacggcgt',\n",
       "       '-aaaggggcgt', '-ataaaagggg', '-tcaggggcgt', '-ggttcagggg',\n",
       "       '-tgttgggcgt', '-acatgttggg', '-gcgggagcgt', '-gcgggtgcgt',\n",
       "       '-gcgggcgcgt', '-gcggaggcgt', '-gcggttgcgt',\n",
       "       'tatatagcgTGGgcgtatata', 'tatatagcgTAGgcgtatata',\n",
       "       'tatatagcgGGGgcgtatata', 'tatatagcgCGGgcgtatata',\n",
       "       'tatatagcgAGGgcgtatata', 'tatatagcgGAGgcgtatata',\n",
       "       'tatatagcgTTGgcgtatata', 'tatatagcgTCGgcgtatata',\n",
       "       'tatatagcgCAGgcgtatata', 'tatatagcgAAGgcgtatata',\n",
       "       'tatatagcgTGAgcgtatata', 'tatatagcgAAAgcgtatata',\n",
       "       'tatatagcgGCGgcgtatata', 'tatatagcgTTCgcgtatata',\n",
       "       'tatatagcgAGAgcgtatata', 'tatatagcgGGAgcgtatata',\n",
       "       'tatatagcgGATgcgtatata', 'tatatagcgCCAgcgtatata',\n",
       "       'tatatagcgATAgcgtatata', 'tatatagcgTAAgcgtatata',\n",
       "       'tatatagcgGCAgcgtatata', 'tatatagcgCAAgcgtatata',\n",
       "       'tatatagcgGAAgcgtatata', 'tatatagcgAACgcgtatata',\n",
       "       'tatatagcgATCgcgtatata', 'tatatagcgGTAgcgtatata',\n",
       "       'tatatagcgGCTgcgtatata', 'tatatagcgTTAgcgtatata',\n",
       "       'tatatagcgTCAgcgtatata', 'tatatagcgGACgcgtatata',\n",
       "       'tatatagcgTATgcgtatata', 'tatatagcgGTCgcgtatata',\n",
       "       'tatatagcgGTGgcgtatata', 'tatatagcgGCCgcgtatata',\n",
       "       'tatatagcgCATgcgtatata', 'tatatagcgACAgcgtatata',\n",
       "       'tatatagcgTCTgcgtatata', 'tatatagcgGTTgcgtatata',\n",
       "       'tatatagcgTCCgcgtatata', 'tatatagcgCGAgcgtatata',\n",
       "       'tatatagcgCACgcgtatata', 'tatatagcgGGCgcgtatata',\n",
       "       'tatatagcgTACgcgtatata', 'tatatagcgGGTgcgtatata',\n",
       "       'tatatagcgATGgcgtatata', 'tatatagcgTGCgcgtatata',\n",
       "       'tatatagcgCTCgcgtatata', 'tatatagcgAGCgcgtatata',\n",
       "       'tatatagcgCGTgcgtatata', 'tatatagcgTTTgcgtatata',\n",
       "       'tatatagcgAATgcgtatata', 'tatatagcgTGTgcgtatata',\n",
       "       'tatatagcgATTgcgtatata', 'tatatagcgACCgcgtatata',\n",
       "       'tatatagcgCTGgcgtatata', 'tatatagcgACTgcgtatata',\n",
       "       'tatatagcgAGTgcgtatata', 'tatatagcgCCTgcgtatata',\n",
       "       'tatatagcgCTTgcgtatata', 'tatatagcgCCCgcgtatata',\n",
       "       'tatatagcgCTAgcgtatata', 'tatatagcgCGCgcgtatata',\n",
       "       'tatatagcgCCGgcgtatata', 'tatatagcgACGgcgtatata',\n",
       "       'tctGTCtgggcggaa', 'tctGCCtgggcggaa', 'tctGTTtgggcggaa',\n",
       "       'tctGAGtgggcggaa', 'tctGGAtgggcggaa', 'tctGAAtgggcggaa',\n",
       "       'tctCGAtgggcggaa', 'tctCAAtgggcggaa', 'tctGTAtgggcggaa',\n",
       "       'tctGGGtgggcggaa', 'tctGGTtgggcggaa', 'tctGCGtgggcggaa',\n",
       "       'tctGACtgggcggaa', 'tctGATtgggcggaa', 'tctAGAtgggcggaa',\n",
       "       'tctAGGtgggcggaa', 'tctAATtgggcggaa', 'tctGTGtgggcggaa',\n",
       "       'tctGCTtgggcggaa', '-TGGGTGGGG-', '-GAGGCGTGGC', '-GAGGCGTTTC',\n",
       "       '-GAGGCGTGGT', '---gggGCTgggt--', '---gggGGTgggt--',\n",
       "       '---gggGATgggt--', '---gggGCGgggt--', '---gggGAGgggt--',\n",
       "       '---gggGTGgggt--', '---GCGGCGGCGt--', 'tatGGGGCGGCTtac',\n",
       "       '---GGGGCGGGGt--', '---GGGGCTGCGt--', 'tacGGGGCGGCTtat',\n",
       "       'GGCTATAAAAG', 'TGGGACATGTT', 'CAAGGGTTCAG', 'tccAGGGAGGCGtgg',\n",
       "       'cggGACTGGGGAgtg', 'tcaGATGCTGCAtat', 'taaGCAGCTGCTttt',\n",
       "       'cagATCTGAGCCtgg', 'ctgGGAGCTCTCtgg', 'ctgGCTAACTAGgga',\n",
       "       'gatccgcgtggGAGctgca', 'gatccgcgtggGCGctgca',\n",
       "       'gatccgcgtggGGGctgca', 'gatccgcgtggGTGctgca',\n",
       "       'gatccgcgtggGCActgca', 'gatccgcgtggGCCctgca',\n",
       "       'gatccgcgtggGCTctgca', 'gatccgcgtggGTActgca',\n",
       "       'gatccgcgtggGTCctgca', 'gatccgcgtggGTTctgca', '-GGGGCGGGG-',\n",
       "       '-GGGGCGGAG-', '-GGGGCGGGA-', '-TGGGCGGAG-', '-TGGGCGGAA-',\n",
       "       '-GGTGGGGAT-', '-GGGGAGGTG-', '-AAGGCGGGT-', '-TGGGCGGGG-',\n",
       "       '-GGGGCGTGG-', '-GGGGAGGGG-', '-AGGGCGGGG-', '-GGGGCTGGG-',\n",
       "       '-GAGGCGGAG-', '-GGGGAGGGA-', '-TGGGCGGGA-', '-TGGGAGGAG-',\n",
       "       '-GCGGGGGCC-', '-GGGGGTGGG-', '-TCGGGGGCG-', '-GCGTGGGCT-',\n",
       "       '-AGGGTGTGG-', '-GCGGGGGAG-', '-CCGGGGGCG-', '-CTGTGGGCA-',\n",
       "       '-GAGGGGGAG-', '-CCGTGGGAG-', '-GCGGGGGGA-', '-gagtcggac-',\n",
       "       '-gaggtggac-', '-gggggtgct-', '-gggggagct-', '-gggggcgct-',\n",
       "       '-gaggaggag-', '-ggggggggg-', '-gtggtggtg-', '-gcggcggcg-',\n",
       "       '-gcagcagca-', '-gctgctgct-', '-gccgccgcc-', '-gaagaagaa-',\n",
       "       '-gatgatgat-', '-gacgacgac-', '-ggaggagga-', '-ggtggtggt-',\n",
       "       '-ggcggcggc-', '-gtagtagta-', '-gttgttgtt-', '-gtcgtcgtc-',\n",
       "       '-gcggtggct-', '-gaggtggct-', '-gtggtggct-', '-gcgggggct-',\n",
       "       '-gcggtggat-', '-gcggtggcg-', 'gtacgcgGGGgcggtta',\n",
       "       'gtacgcgCGGgcggtta', 'gtacgcgAGGgcggtta', 'gtacgcgTGGgcggtta',\n",
       "       'gtacgcgGCGgcggtta', 'gtacgcgGAGgcggtta', 'gtacgcgGTGgcggtta',\n",
       "       'gtacgcgGGCgcggtta', 'gtacgcgGGAgcggtta', 'gtacgcgGGTgcggtta',\n",
       "       'gtacgcgCCGgcggtta', 'gtacgcgCGCgcggtta', 'gtacgcgGCCgcggtta',\n",
       "       'gtacgcgCCCgcggtta', 'taaccgcGGGcgcgtac', 'agcgtgggacc',\n",
       "       'agcgtgggcgt', 'agcgtgggcac', 'cgctataaaag', 'agcgtgggcgg',\n",
       "       'agcgtgggctg', 'ggcgtgggcgg', 'agcagctgagcgtggGACCagtgagct',\n",
       "       'agcagctgagcgtggGCACagtgagct', 'agcagctgagcgtggGCGCagtgagct',\n",
       "       'gtgGCCTGGGCGgga', '-GAGGCGCGGA', '-GAGGGGTGGT', '-TCGGGGTGGT',\n",
       "       '-AGGGCAGGCT', '-AGGGCGTATA', '-GTGGCGGTGT', '-TGGGTAGGGA',\n",
       "       '-GAGGCGGGCC', '-CGGGCTGGAT', '-GGGGCTGTGT', '-GGGGCAGGGC',\n",
       "       'cccgtCAAGGGTTCAGtccgg', 'cccctTGGGACATGTTcctgg',\n",
       "       '-----ggctataaaag-----', 'cctgcgtggGCGccc', 'cctgcgtggTGTccc',\n",
       "       'cctgcgTGGgcgccc', 'cctgcgTTGgcgccc', 'cctGCGtgggcgccc',\n",
       "       'cctCTGtgggcgccc'], dtype=object)"
      ]
     },
     "execution_count": 3,
     "metadata": {},
     "output_type": "execute_result"
    }
   ],
   "source": [
    "df['dna'].unique()"
   ]
  },
  {
   "cell_type": "code",
   "execution_count": 4,
   "id": "5fc579ba",
   "metadata": {
    "scrolled": true
   },
   "outputs": [
    {
     "data": {
      "text/html": [
       "<div>\n",
       "<style scoped>\n",
       "    .dataframe tbody tr th:only-of-type {\n",
       "        vertical-align: middle;\n",
       "    }\n",
       "\n",
       "    .dataframe tbody tr th {\n",
       "        vertical-align: top;\n",
       "    }\n",
       "\n",
       "    .dataframe thead th {\n",
       "        text-align: right;\n",
       "    }\n",
       "</style>\n",
       "<table border=\"1\" class=\"dataframe\">\n",
       "  <thead>\n",
       "    <tr style=\"text-align: right;\">\n",
       "      <th></th>\n",
       "      <th>Unnamed: 0</th>\n",
       "      <th>source</th>\n",
       "      <th>dna</th>\n",
       "      <th>f1</th>\n",
       "      <th>f2</th>\n",
       "      <th>f3</th>\n",
       "      <th>ex</th>\n",
       "      <th>Kd</th>\n",
       "      <th>dna2</th>\n",
       "      <th>f4</th>\n",
       "      <th>...</th>\n",
       "      <th>KdSd</th>\n",
       "      <th>Ka</th>\n",
       "      <th>KaSd</th>\n",
       "      <th>f12</th>\n",
       "      <th>f22</th>\n",
       "      <th>f32</th>\n",
       "      <th>cs</th>\n",
       "      <th>lbl</th>\n",
       "      <th>PWM</th>\n",
       "      <th>PWM2</th>\n",
       "    </tr>\n",
       "  </thead>\n",
       "  <tbody>\n",
       "    <tr>\n",
       "      <th>0</th>\n",
       "      <td>0</td>\n",
       "      <td>DBSFB01</td>\n",
       "      <td>ctcgcgGGGgcggcc</td>\n",
       "      <td>KSADLKRHIRI</td>\n",
       "      <td>RSDHLTTHIRT</td>\n",
       "      <td>RSDERKRHTKI</td>\n",
       "      <td>Kd</td>\n",
       "      <td>0.5</td>\n",
       "      <td>NaN</td>\n",
       "      <td>NaN</td>\n",
       "      <td>...</td>\n",
       "      <td>NaN</td>\n",
       "      <td>NaN</td>\n",
       "      <td>NaN</td>\n",
       "      <td>NaN</td>\n",
       "      <td>NaN</td>\n",
       "      <td>NaN</td>\n",
       "      <td>NaN</td>\n",
       "      <td>NaN</td>\n",
       "      <td>[[0 0 0 0 0 0 0 0 0 0 0 0 0 0 0]\\n [1 0 1 0 1 ...</td>\n",
       "      <td>[]</td>\n",
       "    </tr>\n",
       "    <tr>\n",
       "      <th>1</th>\n",
       "      <td>4</td>\n",
       "      <td>DBSFB01</td>\n",
       "      <td>ctcgcgGGGgcggcc</td>\n",
       "      <td>KSADLKRHIRI</td>\n",
       "      <td>RSDHLTTHIRT</td>\n",
       "      <td>RSDERKRHTKI</td>\n",
       "      <td>&gt;</td>\n",
       "      <td>NaN</td>\n",
       "      <td>ctcgcgGACgcggcc</td>\n",
       "      <td>NaN</td>\n",
       "      <td>...</td>\n",
       "      <td>NaN</td>\n",
       "      <td>NaN</td>\n",
       "      <td>NaN</td>\n",
       "      <td>NaN</td>\n",
       "      <td>NaN</td>\n",
       "      <td>NaN</td>\n",
       "      <td>NaN</td>\n",
       "      <td>NaN</td>\n",
       "      <td>[[0 0 0 0 0 0 0 0 0 0 0 0 0 0 0]\\n [1 0 1 0 1 ...</td>\n",
       "      <td>[[0 0 0 0 0 0 0 1 0 0 0 0 0 0 0]\\n [1 0 1 0 1 ...</td>\n",
       "    </tr>\n",
       "    <tr>\n",
       "      <th>2</th>\n",
       "      <td>5</td>\n",
       "      <td>DBSFB01</td>\n",
       "      <td>ctcgcgGGGgcggcc</td>\n",
       "      <td>KSADLKRHIRI</td>\n",
       "      <td>RSDHLTTHIRT</td>\n",
       "      <td>RSDERKRHTKI</td>\n",
       "      <td>&gt;</td>\n",
       "      <td>NaN</td>\n",
       "      <td>ctcgcgGATgcggcc</td>\n",
       "      <td>NaN</td>\n",
       "      <td>...</td>\n",
       "      <td>NaN</td>\n",
       "      <td>NaN</td>\n",
       "      <td>NaN</td>\n",
       "      <td>NaN</td>\n",
       "      <td>NaN</td>\n",
       "      <td>NaN</td>\n",
       "      <td>NaN</td>\n",
       "      <td>NaN</td>\n",
       "      <td>[[0 0 0 0 0 0 0 0 0 0 0 0 0 0 0]\\n [1 0 1 0 1 ...</td>\n",
       "      <td>[[0 0 0 0 0 0 0 1 0 0 0 0 0 0 0]\\n [1 0 1 0 1 ...</td>\n",
       "    </tr>\n",
       "    <tr>\n",
       "      <th>3</th>\n",
       "      <td>6</td>\n",
       "      <td>DBSFB01</td>\n",
       "      <td>ctcgcgGGGgcggcc</td>\n",
       "      <td>KSADLKRHIRI</td>\n",
       "      <td>RSDHLTTHIRT</td>\n",
       "      <td>RSDERKRHTKI</td>\n",
       "      <td>&gt;</td>\n",
       "      <td>NaN</td>\n",
       "      <td>ctcgcgGCAgcggcc</td>\n",
       "      <td>NaN</td>\n",
       "      <td>...</td>\n",
       "      <td>NaN</td>\n",
       "      <td>NaN</td>\n",
       "      <td>NaN</td>\n",
       "      <td>NaN</td>\n",
       "      <td>NaN</td>\n",
       "      <td>NaN</td>\n",
       "      <td>NaN</td>\n",
       "      <td>NaN</td>\n",
       "      <td>[[0 0 0 0 0 0 0 0 0 0 0 0 0 0 0]\\n [1 0 1 0 1 ...</td>\n",
       "      <td>[[0 0 0 0 0 0 0 0 1 0 0 0 0 0 0]\\n [1 0 1 0 1 ...</td>\n",
       "    </tr>\n",
       "    <tr>\n",
       "      <th>4</th>\n",
       "      <td>7</td>\n",
       "      <td>DBSFB01</td>\n",
       "      <td>ctcgcgGGGgcggcc</td>\n",
       "      <td>KSADLKRHIRI</td>\n",
       "      <td>RSDHLTTHIRT</td>\n",
       "      <td>RSDERKRHTKI</td>\n",
       "      <td>&gt;</td>\n",
       "      <td>NaN</td>\n",
       "      <td>ctcgcgGCCgcggcc</td>\n",
       "      <td>NaN</td>\n",
       "      <td>...</td>\n",
       "      <td>NaN</td>\n",
       "      <td>NaN</td>\n",
       "      <td>NaN</td>\n",
       "      <td>NaN</td>\n",
       "      <td>NaN</td>\n",
       "      <td>NaN</td>\n",
       "      <td>NaN</td>\n",
       "      <td>NaN</td>\n",
       "      <td>[[0 0 0 0 0 0 0 0 0 0 0 0 0 0 0]\\n [1 0 1 0 1 ...</td>\n",
       "      <td>[[0 0 0 0 0 0 0 0 0 0 0 0 0 0 0]\\n [1 0 1 0 1 ...</td>\n",
       "    </tr>\n",
       "  </tbody>\n",
       "</table>\n",
       "<p>5 rows × 22 columns</p>\n",
       "</div>"
      ],
      "text/plain": [
       "   Unnamed: 0   source              dna           f1           f2  \\\n",
       "0           0  DBSFB01  ctcgcgGGGgcggcc  KSADLKRHIRI  RSDHLTTHIRT   \n",
       "1           4  DBSFB01  ctcgcgGGGgcggcc  KSADLKRHIRI  RSDHLTTHIRT   \n",
       "2           5  DBSFB01  ctcgcgGGGgcggcc  KSADLKRHIRI  RSDHLTTHIRT   \n",
       "3           6  DBSFB01  ctcgcgGGGgcggcc  KSADLKRHIRI  RSDHLTTHIRT   \n",
       "4           7  DBSFB01  ctcgcgGGGgcggcc  KSADLKRHIRI  RSDHLTTHIRT   \n",
       "\n",
       "            f3  ex   Kd             dna2  f4  ...  KdSd   Ka  KaSd  f12  f22  \\\n",
       "0  RSDERKRHTKI  Kd  0.5              NaN NaN  ...   NaN  NaN   NaN  NaN  NaN   \n",
       "1  RSDERKRHTKI   >  NaN  ctcgcgGACgcggcc NaN  ...   NaN  NaN   NaN  NaN  NaN   \n",
       "2  RSDERKRHTKI   >  NaN  ctcgcgGATgcggcc NaN  ...   NaN  NaN   NaN  NaN  NaN   \n",
       "3  RSDERKRHTKI   >  NaN  ctcgcgGCAgcggcc NaN  ...   NaN  NaN   NaN  NaN  NaN   \n",
       "4  RSDERKRHTKI   >  NaN  ctcgcgGCCgcggcc NaN  ...   NaN  NaN   NaN  NaN  NaN   \n",
       "\n",
       "   f32   cs  lbl                                                PWM  \\\n",
       "0  NaN  NaN  NaN  [[0 0 0 0 0 0 0 0 0 0 0 0 0 0 0]\\n [1 0 1 0 1 ...   \n",
       "1  NaN  NaN  NaN  [[0 0 0 0 0 0 0 0 0 0 0 0 0 0 0]\\n [1 0 1 0 1 ...   \n",
       "2  NaN  NaN  NaN  [[0 0 0 0 0 0 0 0 0 0 0 0 0 0 0]\\n [1 0 1 0 1 ...   \n",
       "3  NaN  NaN  NaN  [[0 0 0 0 0 0 0 0 0 0 0 0 0 0 0]\\n [1 0 1 0 1 ...   \n",
       "4  NaN  NaN  NaN  [[0 0 0 0 0 0 0 0 0 0 0 0 0 0 0]\\n [1 0 1 0 1 ...   \n",
       "\n",
       "                                                PWM2  \n",
       "0                                                 []  \n",
       "1  [[0 0 0 0 0 0 0 1 0 0 0 0 0 0 0]\\n [1 0 1 0 1 ...  \n",
       "2  [[0 0 0 0 0 0 0 1 0 0 0 0 0 0 0]\\n [1 0 1 0 1 ...  \n",
       "3  [[0 0 0 0 0 0 0 0 1 0 0 0 0 0 0]\\n [1 0 1 0 1 ...  \n",
       "4  [[0 0 0 0 0 0 0 0 0 0 0 0 0 0 0]\\n [1 0 1 0 1 ...  \n",
       "\n",
       "[5 rows x 22 columns]"
      ]
     },
     "execution_count": 4,
     "metadata": {},
     "output_type": "execute_result"
    }
   ],
   "source": [
    "df.head()"
   ]
  },
  {
   "cell_type": "code",
   "execution_count": 5,
   "id": "124ebc0c",
   "metadata": {
    "scrolled": true
   },
   "outputs": [],
   "source": [
    "fingers_dictionary = sorted(df[['f1', 'f2', 'f3']].melt()['value'].str.upper().unique())"
   ]
  },
  {
   "cell_type": "code",
   "execution_count": 6,
   "id": "a20bde1a",
   "metadata": {},
   "outputs": [
    {
     "data": {
      "text/plain": [
       "['AKRMLGQ---',\n",
       " 'AKRMLGQHIRT',\n",
       " 'AMGHLVEHIRT',\n",
       " 'AREVLQRHTR',\n",
       " 'AREVLQRHTRT',\n",
       " 'ARSNLLRHTR',\n",
       " 'ARSNLLRHTRT',\n",
       " 'ASADLTR',\n",
       " 'ASADLTRHIR',\n",
       " 'ASDDLTQ',\n",
       " 'ASSTRTK',\n",
       " 'ASWELTRHIR',\n",
       " 'ATGA-HN---',\n",
       " 'CCAHLSEHIRT',\n",
       " 'CPSNLRRHGRT',\n",
       " 'CSDHLTTHIR',\n",
       " 'DASARKRHTK',\n",
       " 'DASTRKRHTK',\n",
       " 'DCRDLAR---',\n",
       " 'DCRDLARHIRT',\n",
       " 'DHANLARHTR',\n",
       " 'DHANLARHTRT',\n",
       " 'DHQDLTIHIRT',\n",
       " 'DHSSRKRHTK',\n",
       " 'DKKDLTRHIRT',\n",
       " 'DLRSCRSHIRT',\n",
       " 'DLRWLVVHIRT',\n",
       " 'DPGALVR---',\n",
       " 'DPGALVRHIRT',\n",
       " 'DPGDLVRHIRT',\n",
       " 'DPGELVRHIRT',\n",
       " 'DPGHLARHIRT',\n",
       " 'DPGHLVRHIRT',\n",
       " 'DPGKLARHIRT',\n",
       " 'DPGNLKR---',\n",
       " 'DPGNLKRHIRT',\n",
       " 'DPGNLVRHIRT',\n",
       " 'DPHNRKRHTK',\n",
       " 'DRANLST',\n",
       " 'DRANRKRHTK',\n",
       " 'DRKVLATHIRT',\n",
       " 'DRRLLDRHQR',\n",
       " 'DRRLLDRHQRT',\n",
       " 'DRSALARAHLRW',\n",
       " 'DRSALARDHLSK',\n",
       " 'DRSALARRHKRT',\n",
       " 'DRSDLTRDHLSK',\n",
       " 'DRSDLTRRHKRT',\n",
       " 'DRSHLARDHLSK',\n",
       " 'DRSHLARRHKRT',\n",
       " 'DRSHLTRAHLRW',\n",
       " 'DRSKLARHIRT',\n",
       " 'DRSNLERHTR',\n",
       " 'DRSNLERHTRT',\n",
       " 'DRSNLTRAHLRW',\n",
       " 'DRSNLTRDHLSK',\n",
       " 'DRSNLTRRHKRT',\n",
       " 'DRSSLTRHTR',\n",
       " 'DRSSLTRHTRT',\n",
       " 'DSAHLTR',\n",
       " 'DSANLTRHIR',\n",
       " 'DSANRTK',\n",
       " 'DSGNLRVHIRT',\n",
       " 'DSKDLTRHIR',\n",
       " 'DSRARKRHTK',\n",
       " 'DSRDLTRHIR',\n",
       " 'DSRNLTRHIR',\n",
       " 'DSSARKRHTKI',\n",
       " 'DSSCRKRHTKI',\n",
       " 'DSSH-AR---',\n",
       " 'DSSHLARHIR',\n",
       " 'DSSHLARHIRT',\n",
       " 'DSSK-SR---',\n",
       " 'DSSKLSRHIR',\n",
       " 'DSSKLSRHIRT',\n",
       " 'DSSNLTR',\n",
       " 'DSSNLTRHIR',\n",
       " 'DSSNLTRHIRI',\n",
       " 'DSSRRKRHTK',\n",
       " 'DSSSLTK',\n",
       " 'DSSSRTK',\n",
       " 'DSYGLTRHIR',\n",
       " 'DSYTLTRHIR',\n",
       " 'DTSSRKRHTK',\n",
       " 'DTSVRKRHTK',\n",
       " 'DYSVRKR',\n",
       " 'EKATLARHMK',\n",
       " 'EKATLARHMKT',\n",
       " 'EKGTLNR---',\n",
       " 'EKGTLNRHIRT',\n",
       " 'EQVSRTTHIR',\n",
       " 'EQVSRTTHIRT',\n",
       " 'ERGTLARAHLRW',\n",
       " 'ERGTLARHEK',\n",
       " 'ERGTLARHEKT',\n",
       " 'ERGTLARHER',\n",
       " 'ERGTLARHERT',\n",
       " 'ERSKLAR---',\n",
       " 'ERSKLARHIRT',\n",
       " 'ERSSLVR---',\n",
       " 'ERSSLVRHIRT',\n",
       " 'ERTSLSRHIR',\n",
       " 'ERTSLSRHIRT',\n",
       " 'ERWMLLR---',\n",
       " 'ERWMLLRHIRT',\n",
       " 'ESGSLTRHIR',\n",
       " 'ESKSLTRHIR',\n",
       " 'ESNSFTDHIR',\n",
       " 'ESRALTRHIR',\n",
       " 'ESRALTRHIRI',\n",
       " 'ESRRLTTHIR',\n",
       " 'ESSH-AR---',\n",
       " 'ESSHLTTHIR',\n",
       " 'ESSHLTTHIRT',\n",
       " 'ESTGLTRHIR',\n",
       " 'ETRTLTAHIRT',\n",
       " 'FCPYRTTHIR',\n",
       " 'GARSLTRHQR',\n",
       " 'GARSLTRHQRT',\n",
       " 'GCKDLAR---',\n",
       " 'GCKDLARHIRT',\n",
       " 'GCRELSR---',\n",
       " 'GCRELSRHIRT',\n",
       " 'GCSKLREHIRT',\n",
       " 'GLKWLVVHIRT',\n",
       " 'GPAGLIRHIRT',\n",
       " 'GRDALARHQK',\n",
       " 'GRDALARHQKT',\n",
       " 'GRLILLGHIRT',\n",
       " 'GSDELTRHIR',\n",
       " 'GSKDLTRHIR',\n",
       " 'GSNDRKRHTK',\n",
       " 'GSTELTKHIR',\n",
       " 'GVNSITTHIR',\n",
       " 'GVRKNTTHIR',\n",
       " 'HAHH-KV---',\n",
       " 'HAQTRKRHTK',\n",
       " 'HATTRKRHTK',\n",
       " 'HHSNRKRHTK',\n",
       " 'HHTSRKRHTK',\n",
       " 'HIIDLDHHIRT',\n",
       " 'HKNALQNHIRT',\n",
       " 'HKQH-NT---',\n",
       " 'HLATRKRHTK',\n",
       " 'HLHH-KQ---',\n",
       " 'HLQH-KT---',\n",
       " 'HLTTRKRHTK',\n",
       " 'HMWMITTHIR',\n",
       " 'HPANRKRHTK',\n",
       " 'HPATRKRHTK',\n",
       " 'HPHH-KA---',\n",
       " 'HPHH-RS---',\n",
       " 'HPSTRKRHTK',\n",
       " 'HRHH-AS---',\n",
       " 'HRHH-VN---',\n",
       " 'HRQH-LT---',\n",
       " 'HRQH-NT---',\n",
       " 'HRQNRKRHTK',\n",
       " 'HRTTLLNHIRT',\n",
       " 'HRTTLTNHIRT',\n",
       " 'HSKSRKRHTK',\n",
       " 'HSQQNKPHIR',\n",
       " 'HSSDLTR',\n",
       " 'HSSDLTRHIR',\n",
       " 'HSSNFNKHHRI',\n",
       " 'HSSSRKRHTKI',\n",
       " 'HTGHLLEHIRT',\n",
       " 'HVIDLDHHIRT',\n",
       " 'IASNLLRHQR',\n",
       " 'IASNLLRHQRT',\n",
       " 'IPADLKQHIRT',\n",
       " 'ISALLDTHTK',\n",
       " 'ISAWMELHTK',\n",
       " 'ISMMTFFHTK',\n",
       " 'ISSNLQRHVRN',\n",
       " 'KASNLVSHIR',\n",
       " 'KASNLVSHIRT',\n",
       " 'KESRGTTHIR',\n",
       " 'KSADLKRHIR',\n",
       " 'KSADLKRHIRI',\n",
       " 'KSADLKRHIRT',\n",
       " 'KSAELKRHIRT',\n",
       " 'KSAELVRHIRT',\n",
       " 'KSCDRGRHIR',\n",
       " 'KSCQMDSHIR',\n",
       " 'KSCVRGRHIR',\n",
       " 'KSCVRGRHIRI',\n",
       " 'KSDALVRHIRT',\n",
       " 'KSDDLTRHIR',\n",
       " 'KSDDLVRHIRT',\n",
       " 'KSDSLVRHIRT',\n",
       " 'KSDTLVRHIRT',\n",
       " 'KSDVLVRHIRT',\n",
       " 'KSEDLTRHIR',\n",
       " 'KSGDLTRHIR',\n",
       " 'KSGELTRHIR',\n",
       " 'KSNDLTKHIR',\n",
       " 'KSNSQHPHIR',\n",
       " 'KSQLPWTHIR',\n",
       " 'KSQLPWTHIRI',\n",
       " 'KSSDLTRHIR',\n",
       " 'KSSDRKRHTK',\n",
       " 'KSSELTRHIR',\n",
       " 'KSSHLKA',\n",
       " 'KSSHLKAHLRT',\n",
       " 'KSSNRKRHTKI',\n",
       " 'KSYCRTRHIR',\n",
       " 'KTSHLRAHLRW',\n",
       " 'LAQTRKRHTK',\n",
       " 'LNQVRKRHTK',\n",
       " 'LQSNLVRHQR',\n",
       " 'LQSNLVRHQRT',\n",
       " 'LRHNLETHMR',\n",
       " 'LRHNLETHMRT',\n",
       " 'LRRQLAHHIRT',\n",
       " 'LSHH-RQ---',\n",
       " 'LSSHLTTHIRT',\n",
       " 'LSSTRKRHTK',\n",
       " 'LSTTRKRHTK',\n",
       " 'MAHH-KA---',\n",
       " 'MKHH-TA---',\n",
       " 'MKHH-TQ---',\n",
       " 'MNHH-NH---',\n",
       " 'MRHH-TQ---',\n",
       " 'MSHH-KD---',\n",
       " 'MSHH-KE---',\n",
       " 'MSHHLKEHIR',\n",
       " 'MSHHLKEHIRI',\n",
       " 'NCFHLTEHIRT',\n",
       " 'NCNHLAEHIRT',\n",
       " 'NGANLERHRR',\n",
       " 'NGANLERHRRT',\n",
       " 'NGGELIRHIRT',\n",
       " 'NGGNLGRHMK',\n",
       " 'NGGNLGRHMKT',\n",
       " 'NHGHLTEHIRT',\n",
       " 'NHTRLASHIRT',\n",
       " 'NKTDLGKHIRI',\n",
       " 'NLQHLGEHIRT',\n",
       " 'NQSNLERHHR',\n",
       " 'NQSNLERHHRT',\n",
       " 'NRDTLTRHSK',\n",
       " 'NRDTLTRHSKT',\n",
       " 'NRSDLSR',\n",
       " 'NSADLTRHIR',\n",
       " 'NSGA-AN---',\n",
       " 'NSGA-SN---',\n",
       " 'NSGA-TN---',\n",
       " 'NSGA-VN---',\n",
       " 'NSGDRKRHTK',\n",
       " 'NSGN-HT---',\n",
       " 'NSGSLTRHIR',\n",
       " 'NSRDLTHHIR',\n",
       " 'NSRDLTRHIR',\n",
       " 'NSRGQRKHIR',\n",
       " 'NSSDLTRHIR',\n",
       " 'NSSNLTRHIR',\n",
       " 'NSVGDKPHTK',\n",
       " 'NSVMGHDHIR',\n",
       " 'NSVQGLRHTK',\n",
       " 'NTKQLRNHIRT',\n",
       " 'NTTHLEHHIRT',\n",
       " 'NVNPLPPHIRT',\n",
       " 'NVRTLDTHIRT',\n",
       " 'PSERTQPHIR',\n",
       " 'PSTHLQTHIR',\n",
       " 'PSTHLQTHIRI',\n",
       " 'QAAS-QA---',\n",
       " 'QAASLQAHIR',\n",
       " 'QAASLQAHIRT',\n",
       " 'QAATRKRHTK',\n",
       " 'QAGHLAS',\n",
       " 'QAGHLRR---',\n",
       " 'QAGHLRRHIRT',\n",
       " 'QAGTLMR---',\n",
       " 'QAGTLMRHIRT',\n",
       " 'QAHD-TR---',\n",
       " 'QANG-NQ---',\n",
       " 'QANN-RT---',\n",
       " 'QAQTLQRHLK',\n",
       " 'QAQTLQRHLKT',\n",
       " 'QARPPTTHIR',\n",
       " 'QASSLKAHIRT',\n",
       " 'QCGHLVAHIRT',\n",
       " 'QDAHRKRHTK',\n",
       " 'QDGT-RR---',\n",
       " 'QDSTRKRHTK',\n",
       " 'QDTTRKRHTK',\n",
       " 'QGGNLVRHLR',\n",
       " 'QGGNLVRHLRT',\n",
       " 'QGTNRKRHTK',\n",
       " 'QHGN-VA---',\n",
       " 'QHTG-NQ---',\n",
       " 'QHTGLNQ',\n",
       " 'QHTGLNQHIR',\n",
       " 'QHTGLNQHIRT',\n",
       " 'QHTN-VT---',\n",
       " 'QIGARKRHTK',\n",
       " 'QISTRKRHTK',\n",
       " 'QKGHLTEHRK',\n",
       " 'QKGHLTEHRKT',\n",
       " 'QKGTLIR---',\n",
       " 'QKGTLIRHIRT',\n",
       " 'QKHD-TK---',\n",
       " 'QKHN-QV---',\n",
       " 'QKIS-IT---',\n",
       " 'QKNN-IN---',\n",
       " 'QKNN-LA---',\n",
       " 'QKNNLINHIR',\n",
       " 'QKNNLINHIRI',\n",
       " 'QKNNLLAHIR',\n",
       " 'QKNNLLAHIRI',\n",
       " 'QKSNLIRHQRT',\n",
       " 'QKSSLIAHIRT',\n",
       " 'QKTN-DT---',\n",
       " 'QKTN-EH---',\n",
       " 'QKTN-IT---',\n",
       " 'QKTN-LN---',\n",
       " 'QKTN-LT---',\n",
       " 'QKTNLDT',\n",
       " 'QKTNLDTHIR',\n",
       " 'QKTNLDTHIRI',\n",
       " 'QKTNLITHIR',\n",
       " 'QKTNLITHIRI',\n",
       " 'QKVN-IT---',\n",
       " 'QLAHLKEHIRT',\n",
       " 'QLAHLRAHIRT',\n",
       " 'QLAHLSTHKR',\n",
       " 'QLAHLSTHKRT',\n",
       " 'QLATRKRHTK',\n",
       " 'QLGHLIQHIRT',\n",
       " 'QLHHLRDHIRT',\n",
       " 'QLRHLREHIRT',\n",
       " 'QLSGLKR---',\n",
       " 'QLSGLKRHIRT',\n",
       " 'QLTG-NQ---',\n",
       " 'QLTGLNQHIR',\n",
       " 'QLTGLNQHIRT',\n",
       " 'QMGSLTR---',\n",
       " 'QMGSLTRHIRT',\n",
       " 'QNAS-TL---',\n",
       " 'QNATRKR',\n",
       " 'QNGA-AA---',\n",
       " 'QNSTLTEHIRT',\n",
       " 'QPGHRKRHTK',\n",
       " 'QPGN-QT---',\n",
       " 'QPLSDTTHIR',\n",
       " 'QQAS-NA---',\n",
       " 'QQASLNA',\n",
       " 'QQASLNAHIR',\n",
       " 'QQASLNAHIRT',\n",
       " 'QQGS-AS---',\n",
       " 'QQGT-NR---',\n",
       " 'QQGTLNRHIR',\n",
       " 'QQGTLNRHIRT',\n",
       " 'QQGTLRR---',\n",
       " 'QQGTLRRHIRT',\n",
       " 'QQHN-KL---',\n",
       " 'QQSNLARDHLSK',\n",
       " 'QQSNLVRHQR',\n",
       " 'QQSNLVRHQRT',\n",
       " 'QQTA-NQ---',\n",
       " 'QQTALNQHIR',\n",
       " 'QQTALNQHIRT',\n",
       " 'QQTG-RQ---',\n",
       " 'QRAHLER---',\n",
       " 'QRAHLERHIRT',\n",
       " 'QRAKLERHIRT',\n",
       " 'QRANLRA',\n",
       " 'QRANLRAHIRT',\n",
       " 'QRASLASHMR',\n",
       " 'QRASLASHMRT',\n",
       " 'QRASLTRDHLSK',\n",
       " 'QRASRKRHTK',\n",
       " 'QRGARKRHTK',\n",
       " 'QRGSLLR---',\n",
       " 'QRGSLLRHIRT',\n",
       " 'QRGT-TR---',\n",
       " 'QRGTLTRHIR',\n",
       " 'QRGTLTRHIRT',\n",
       " 'QRHHLVEHIRT',\n",
       " 'QRHSLTEHIRT',\n",
       " 'QRNN-LL---',\n",
       " 'QRNN-LT---',\n",
       " 'QRRHLLSHIRT',\n",
       " 'QRSNLVR---',\n",
       " 'QRSNLVRAHLRW',\n",
       " 'QRSNLVRHIRT',\n",
       " 'QRTG-DQ---',\n",
       " 'QRTG-NQ---',\n",
       " 'QRTGLDQHIR',\n",
       " 'QRTGLDQHIRT',\n",
       " 'QRTN-IT---',\n",
       " 'QSAHLST',\n",
       " 'QSAHRKRHTKI',\n",
       " 'QSAHRTK',\n",
       " 'QSASRKRHTK',\n",
       " 'QSEDLTRHIR',\n",
       " 'QSFNRKRHTKI',\n",
       " 'QSGALARRHKRT',\n",
       " 'QSGDLAKHIRI',\n",
       " 'QSGDLQR---',\n",
       " 'QSGDLQRHIRT',\n",
       " 'QSGDLRR---',\n",
       " 'QSGDLRRHIRT',\n",
       " 'QSGDLTR---',\n",
       " 'QSGDLTRAHLRW',\n",
       " 'QSGDLTRDHLSK',\n",
       " 'QSGDLTRHIRT',\n",
       " 'QSGDLTRRHKRT',\n",
       " 'QSGDLVRHIRT',\n",
       " 'QSGDRKRHTK',\n",
       " 'QSGELVRHIRT',\n",
       " 'QSGHLARAHLRW',\n",
       " 'QSGHLQRDHLSK',\n",
       " 'QSGHLQRRHKRT',\n",
       " 'QSGHLTEHIRT',\n",
       " 'QSGHLVRHIRT',\n",
       " 'QSGNLARDHLSK',\n",
       " 'QSGNLARRHKRT',\n",
       " 'QSGNLTEHIRT',\n",
       " 'QSGNLVRHIRT',\n",
       " 'QSGNRKRHTKI',\n",
       " 'QSGRLTRAHLRW',\n",
       " 'QSGS-RT---',\n",
       " 'QSGSLTR',\n",
       " 'QSGSLTRAHLRW',\n",
       " 'QSGSLTRHIR',\n",
       " 'QSGSLTRHIRI',\n",
       " 'QSGTLRRHIRT',\n",
       " 'QSHD-TK---',\n",
       " 'QSHDLTKHIR',\n",
       " 'QSHDLTKHIRI',\n",
       " 'QSQHRKRHTK',\n",
       " 'QSQVTRTHIR',\n",
       " 'QSSALTRDHLSK',\n",
       " 'QSSDLQKHQR',\n",
       " 'QSSDLQRDHLSK',\n",
       " 'QSSDLQRHKRT',\n",
       " 'QSSDLQRHQRT',\n",
       " 'QSSDLRRAHLRW',\n",
       " 'QSSDLSK',\n",
       " 'QSSDLTRAHLRW',\n",
       " 'QSSDLTRDHLSK',\n",
       " 'QSSDLTRRHKRT',\n",
       " 'QSSDLVRHIRT',\n",
       " 'QSSHLARDHLSK',\n",
       " 'QSSHLARRHKRT',\n",
       " 'QSSHLTRAHLRW',\n",
       " 'QSSHLTRHIR',\n",
       " 'QSSHLTRHIRT',\n",
       " 'QSSHLTTHIR',\n",
       " 'QSSHLTTHIRT',\n",
       " 'QSSHLTTHKII',\n",
       " 'QSSHLVRHIRT',\n",
       " 'QSSHRKRHTKI',\n",
       " 'QSSHRKVHTKI',\n",
       " 'QSSKLVRHIRT',\n",
       " 'QSSNLARAHLRW',\n",
       " 'QSSNLARRHKRT',\n",
       " 'QSSNLQKHQR',\n",
       " 'QSSNLQRHKRT',\n",
       " 'QSSNLTVHQKI',\n",
       " 'QSSNLVR',\n",
       " 'QSSNLVRHIRT',\n",
       " 'QSSNRKIHTKI',\n",
       " 'QSSNRKKHTKI',\n",
       " 'QSSSLIRHQRT',\n",
       " 'QSSSLVR---',\n",
       " 'QSSSLVRHIRT',\n",
       " 'QSSTRKRHTKI',\n",
       " 'QSTASKAHIR',\n",
       " 'QSTASKAHIRI',\n",
       " 'QSTHLTQHRRI',\n",
       " 'QSTHRKRHTKI',\n",
       " 'QSTSRKRHTK',\n",
       " 'QSTTRKRHTK',\n",
       " 'QSVHLQSHSR',\n",
       " 'QSVHLQSHSRT',\n",
       " 'QTSHRKRHTK',\n",
       " 'QVGHRKRHTK',\n",
       " 'QVTTRKRHTK',\n",
       " 'QWHHLTDHIRT',\n",
       " 'QYSTRKRHTK',\n",
       " 'RAADLNRHVR',\n",
       " 'RAADLNRHVRT',\n",
       " 'RADALMVHKR',\n",
       " 'RADALMVHKRT',\n",
       " 'RADNLAIHIRT',\n",
       " 'RADNLTEHIRT',\n",
       " 'RADTLRR---',\n",
       " 'RADTLRRHIRT',\n",
       " 'RAQNRKRHTK',\n",
       " 'REDNLHT',\n",
       " 'REDNLHTHIRT',\n",
       " 'REDVLIRHGK',\n",
       " 'REDVLIRHGKT',\n",
       " 'REFSLTTHIR',\n",
       " 'RGDALRR---',\n",
       " 'RGDALRRHIRT',\n",
       " 'RGDALTSHER',\n",
       " 'RGDALTSHERT',\n",
       " 'RGDHLKDHIK',\n",
       " 'RGDHLKDHIKT',\n",
       " 'RGPDLARHGR',\n",
       " 'RGPDLARHGRT',\n",
       " 'RHDSLLR---',\n",
       " 'RHDSLLRHIRT',\n",
       " 'RHHH-LV---',\n",
       " 'RHHHRLVHTK',\n",
       " 'RHHHRLVHTKI',\n",
       " 'RHTHRKRHTK',\n",
       " 'RIDERKRHTK',\n",
       " 'RIHHLVVHIRT',\n",
       " 'RKDALTR---',\n",
       " 'RKDALTRHIRT',\n",
       " 'RKDNLKNHIRT',\n",
       " 'RKDNLKQHIRT',\n",
       " 'RKDQ-TT---',\n",
       " 'RKDQRTTHTK',\n",
       " 'RKDQRTTHTKI',\n",
       " 'RKDSLVR---',\n",
       " 'RKDSLVRHIRT',\n",
       " 'RKDTLAR---',\n",
       " 'RKDTLARHIRT',\n",
       " 'RKDVLVSHVR',\n",
       " 'RKDVLVSHVRT',\n",
       " 'RKSNLIRHQRT',\n",
       " 'RKTDRKRHTK',\n",
       " 'RLDG-TA---',\n",
       " 'RLDGLRTHLK',\n",
       " 'RLDGLRTHLKT',\n",
       " 'RLDGRTAHTK',\n",
       " 'RLDGRTAHTKI',\n",
       " 'RLDN-TA---',\n",
       " 'RLDN-TV---',\n",
       " 'RLDNRTAHTK',\n",
       " 'RLDNRTAHTKI',\n",
       " 'RLDNRTVHTK',\n",
       " 'RLDNRTVHTKI',\n",
       " 'RLDSLKR---',\n",
       " 'RLDSLKRHIRT',\n",
       " 'RLDTLGR---',\n",
       " 'RLDTLGRHIRT',\n",
       " 'RLEYRKRHTK',\n",
       " 'RLHH-LA---',\n",
       " 'RLHH-LL---',\n",
       " 'RLHH-LV---',\n",
       " 'RLHH-TL---',\n",
       " 'RLHH-VL---',\n",
       " 'RLHHRLAHTK',\n",
       " 'RLHHRLAHTKI',\n",
       " 'RLHHRLLHTK',\n",
       " 'RLHHRLLHTKI',\n",
       " 'RLHHRTLHTK',\n",
       " 'RLHHRTLHTKI',\n",
       " 'RLHHRVLHTK',\n",
       " 'RLHHRVLHTKI',\n",
       " 'RLHHRVVHTK',\n",
       " 'RLHHRVVHTKI',\n",
       " 'RLNNLLVHIRT',\n",
       " 'RLRDRKRHTK',\n",
       " 'RMDSLAR---',\n",
       " 'RMDSLARHIRT',\n",
       " 'RMRNLQKHIRT',\n",
       " 'RMRTLTTHIR',\n",
       " 'RMRTLTTHIRT',\n",
       " 'RNDALTEHIRT',\n",
       " 'RNDTLQAHIRT',\n",
       " 'RNDTLTEHIRT',\n",
       " 'RNHDRKRHTK',\n",
       " 'RNSTRKRHTK',\n",
       " 'RPDN-HA---',\n",
       " 'RPDN-TD---',\n",
       " 'RPDNRHAHTK',\n",
       " 'RPDNRHAHTKI',\n",
       " 'RPDNRTDHTK',\n",
       " 'RPDNRTDHTKI',\n",
       " 'RPDQ-RA---',\n",
       " 'RPDQRRAHTK',\n",
       " 'RPDQRRAHTKI',\n",
       " 'RPHQRTTHIR',\n",
       " 'RQDG-MI---',\n",
       " 'RQDGRMIHTK',\n",
       " 'RQDGRMIHTKI',\n",
       " 'RQDTLVGHER',\n",
       " 'RQDTLVGHERT',\n",
       " 'RQSTLGRHTR',\n",
       " 'RQSTLGRHTRT',\n",
       " 'RQSTLVRHTR',\n",
       " 'RQSTLVRHTRT',\n",
       " 'RRDALNVHIRT',\n",
       " 'RRDELNVHIRT',\n",
       " 'RRDHRTT',\n",
       " 'RRDNLQR---',\n",
       " 'RRDNLQRHIRT',\n",
       " 'RRDTLVR---',\n",
       " 'RRDTLVRHIRT',\n",
       " 'RRDVLLNHIR',\n",
       " 'RRDVLLNHIRT',\n",
       " 'RRDVLMNHIR',\n",
       " 'RRDVLMNHIRT',\n",
       " 'RRRGWRKHIRT',\n",
       " 'RRSDLTR---',\n",
       " 'RRSDLTRHIRT',\n",
       " 'RRSHLTRHQRI',\n",
       " 'RSADLTR',\n",
       " 'RSADLTRHIR',\n",
       " 'RSADLTRHIRI',\n",
       " 'RSAELTR',\n",
       " 'RSAELTRHIR',\n",
       " 'RSAERKRHTK',\n",
       " 'RSAERKRHTKI',\n",
       " 'RSAKLVRHIRT',\n",
       " 'RSARQTGHIR',\n",
       " 'RSASLVRHIRT',\n",
       " 'RSDALIQ',\n",
       " 'RSDALSRRHKRT',\n",
       " 'RSDALTRAHLRW',\n",
       " 'RSDALTRDHLSK',\n",
       " 'RSDALVRHIRT',\n",
       " 'RSDDLQRRHKRT',\n",
       " 'RSDDLTRAHLRW',\n",
       " 'RSDDLTRDHLSK',\n",
       " 'RSDDLTRHIR',\n",
       " 'RSDDLTRHIRI',\n",
       " 'RSDDLVKHIRT',\n",
       " 'RSDDLVR',\n",
       " 'RSDDLVRHIRT',\n",
       " 'RSDEGKRHTK',\n",
       " 'RSDEKKRHSK',\n",
       " 'RSDELNRHKKR',\n",
       " 'RSDELNRHLR',\n",
       " 'RSDELQRHKRT',\n",
       " 'RSDELQRHQRT',\n",
       " 'RSDELRTRHKRT',\n",
       " 'RSDELTR',\n",
       " 'RSDELTRHIG',\n",
       " 'RSDELTRHIR',\n",
       " 'RSDELTRHIRI',\n",
       " 'RSDELTRHIRT',\n",
       " 'RSDELTRHIS',\n",
       " 'RSDELTRHLR',\n",
       " 'RSDELTRHYRK',\n",
       " 'RSDELTTHIR',\n",
       " 'RSDELTTHIRT',\n",
       " 'RSDELVKHIRT',\n",
       " 'RSDELVRHIRT',\n",
       " 'RSDERKAHTK',\n",
       " 'RSDERKR',\n",
       " 'RSDERKRAHLRW',\n",
       " 'RSDERKRHAK',\n",
       " 'RSDERKRHTK',\n",
       " 'RSDERKRHTKI',\n",
       " 'RSDHLAEHIRT',\n",
       " 'RSDHLAL',\n",
       " 'RSDHLALHMKR',\n",
       " 'RSDHLARAHLRW',\n",
       " 'RSDHLIR---',\n",
       " 'RSDHLIRHIRT',\n",
       " 'RSDHLKTHTRT',\n",
       " 'RSDHLLR---',\n",
       " 'RSDHLLRHIRT',\n",
       " 'RSDHLQRHQR',\n",
       " 'RSDHLSKHIKT',\n",
       " 'RSDHLSRDHLSK',\n",
       " 'RSDHLSRHQR',\n",
       " 'RSDHLSRHQRT',\n",
       " 'RSDHLST',\n",
       " 'RSDHLTAHIR',\n",
       " 'RSDHLTDHIR',\n",
       " 'RSDHLTDHIRT',\n",
       " 'RSDHLTEHIR',\n",
       " 'RSDHLTEHIRT',\n",
       " 'RSDHLTGHIR',\n",
       " 'RSDHLTK',\n",
       " 'RSDHLTKHIR',\n",
       " 'RSDHLTLHIR',\n",
       " 'RSDHLTNHIR',\n",
       " 'RSDHLTNHIRT',\n",
       " 'RSDHLTQHIRT',\n",
       " 'RSDHLTR---',\n",
       " 'RSDHLTRHIR',\n",
       " 'RSDHLTRHIRT',\n",
       " 'RSDHLTRRHKRT',\n",
       " 'RSDHLTSHIR',\n",
       " 'RSDHLTT',\n",
       " 'RSDHLTT---',\n",
       " 'RSDHLTTHIR',\n",
       " 'RSDHLTTHIRT',\n",
       " 'RSDHLTTHVR',\n",
       " 'RSDHLTVHIR',\n",
       " 'RSDHLTYHIR',\n",
       " 'RSDHRKRHTKI',\n",
       " 'RSDKLTEHIRT',\n",
       " 'RSDKLTRHIRT',\n",
       " 'RSDKLVR',\n",
       " 'RSDKLVRHIRT',\n",
       " 'RSDKRKRHTKI',\n",
       " 'RSDLANSHTK',\n",
       " 'RSDLLQRHHK',\n",
       " 'RSDLLQRHHKT',\n",
       " 'RSDNLARAHLRW',\n",
       " 'RSDNLARDHLSK',\n",
       " 'RSDNLARRHKRT',\n",
       " 'RSDNLRR---',\n",
       " 'RSDNLRRHIRT',\n",
       " 'RSDNLSNHIRT',\n",
       " 'RSDNLST',\n",
       " 'RSDNLTRDHLSK',\n",
       " 'RSDNLVR',\n",
       " 'RSDNLVRHIRT',\n",
       " 'RSDQLTRHIR',\n",
       " 'RSDQLTRHIRT',\n",
       " 'RSDSLLR---',\n",
       " 'RSDSLLRHIRT',\n",
       " 'RSDSLVRHIRT',\n",
       " 'RSDTLKKHGK',\n",
       " 'RSDTLKKHGKT',\n",
       " 'RSDTLKR---',\n",
       " 'RSDTLKRHIRT',\n",
       " 'RSDTLRR---',\n",
       " 'RSDTLRRHIRT',\n",
       " 'RSDTLSNHIRT',\n",
       " 'RSDTLVRHIRT',\n",
       " 'RSDVLTR',\n",
       " 'RSDVLVRHIRT',\n",
       " 'RSECRMLHTK',\n",
       " 'RSEDLTRHIR',\n",
       " 'RSEDRKRHTK',\n",
       " 'RSEGLTRHIR',\n",
       " 'RSGDLTRHIR',\n",
       " 'RSGQGMAHIR',\n",
       " 'RSGQLTEHIR',\n",
       " 'RSHDRKRHTK',\n",
       " 'RSNDLTKHIR',\n",
       " 'RSPDLTRHIR',\n",
       " 'RSQDRKRHTK',\n",
       " 'RSRDRKRHTK',\n",
       " 'RSSARKRHTK',\n",
       " 'RSSDLSR',\n",
       " 'RSSDLTKHIR',\n",
       " 'RSSDLTRHIR',\n",
       " 'RSSELTRHIR',\n",
       " 'RSSERKRHTK',\n",
       " 'RSSSLVRHIRT',\n",
       " 'RSSSRKRHTK',\n",
       " 'RSSYRKRHTK',\n",
       " 'RSTDRKRHTK',\n",
       " 'RSTNLTRHIR',\n",
       " 'RSTNLTRHIRT',\n",
       " 'RSVDLTRHIR',\n",
       " 'RTDHLTRHIRT',\n",
       " 'RTDTLRDHIRT',\n",
       " 'RTGNYTTHIR',\n",
       " 'RTGNYTTHIRT',\n",
       " 'RTSTRKRHTK',\n",
       " 'RVDALEAHRR',\n",
       " 'RVDALEAHRRT',\n",
       " 'RVGLFTTHIR',\n",
       " 'SAGTLVRHSK',\n",
       " 'SAGTLVRHSKT',\n",
       " 'SASARKRHTK',\n",
       " 'SCGGLTAHIRT',\n",
       " 'SCGHLQEHIRT',\n",
       " 'SCGHLTEHIRT',\n",
       " 'SCSHLAEHIRT',\n",
       " 'SCVHLAEHIRT',\n",
       " 'SCYKLREHIRT',\n",
       " 'SDHLTTHIRTT',\n",
       " 'SHPNLNRHLK',\n",
       " 'SHPNLNRHLKT',\n",
       " 'SHSDLVRHIRT',\n",
       " 'SKKALTEHIRT',\n",
       " 'SKKHLAEHIRT',\n",
       " 'SPADLTRHIRT',\n",
       " 'SPGHLIEHIRT',\n",
       " 'SPGHLVEHIRT',\n",
       " 'SQGNLQRHGR',\n",
       " 'SQGNLQRHGRT',\n",
       " 'SRDVLRRHNR',\n",
       " 'SRDVLRRHNRT',\n",
       " 'SRHSRKRHTK',\n",
       " 'SRRTCRAHIRT',\n",
       " 'SSEQRYPHIR',\n",
       " 'SSGDRKRHTK',\n",
       " 'SSGQWWRHTK',\n",
       " 'SSGQWWRHTKI',\n",
       " 'SSGSLTRHIR',\n",
       " 'SSLLVIAHTK',\n",
       " 'SSQNLTRHIR',\n",
       " 'SSQTLTR---',\n",
       " 'SSQTLTRHIRT',\n",
       " 'SSRPSQWHIR',\n",
       " 'SSSDLTRHIR',\n",
       " 'SSSDRKRHTK',\n",
       " 'SSSNLTRHIR',\n",
       " 'SSSNRKRHTKI',\n",
       " 'SSSTRKRHTK',\n",
       " 'SSTNLTRHIR',\n",
       " 'SSWICGIHTK',\n",
       " 'SSYDLTRHIR',\n",
       " 'STKDLKRHIRT',\n",
       " 'SVRNLREHIRT',\n",
       " 'TADHLSRHIRT',\n",
       " 'TADKLSR---',\n",
       " 'TADKLSRHIRT',\n",
       " 'TAGSRKRHTK',\n",
       " 'TASHRKRHTK',\n",
       " 'TASTRKRHTK',\n",
       " 'TCGHLVEHIRT',\n",
       " 'TEGNLVR---',\n",
       " 'TEGNLVRHIRT',\n",
       " 'TGASRKRHTK',\n",
       " 'TGGSLARHER',\n",
       " 'TGGSLARHERT',\n",
       " 'TGNL-RR---',\n",
       " 'THAT-NR---',\n",
       " 'THATRNRHTK',\n",
       " 'THATRNRHTKI',\n",
       " 'THLDLIRHIRT',\n",
       " 'THRDLRQHIRT',\n",
       " 'TISNRKRHTK',\n",
       " 'TKGNLAR---',\n",
       " 'TKGNLARHIRT',\n",
       " 'TKNSLTEHIRT',\n",
       " 'TKQHLKEHIRI',\n",
       " 'TKSSLRR---',\n",
       " 'TKSSLRRHIRT',\n",
       " 'TKTN-KS---',\n",
       " 'TKTN-RS---',\n",
       " 'TLGT-DR---',\n",
       " 'TLGTRDRHTK',\n",
       " 'TLGTRDRHTKI',\n",
       " 'TLHT-DR---',\n",
       " 'TLHT-SR---',\n",
       " 'TLHT-TR---',\n",
       " 'TLHTRDR',\n",
       " 'TLHTRDRHTK',\n",
       " 'TLHTRDRHTKI',\n",
       " 'TLHTRSRHTK',\n",
       " 'TLHTRSRHTKI',\n",
       " 'TLHTRTR',\n",
       " 'TLHTRTRHTK',\n",
       " 'TLHTRTRHTKI',\n",
       " 'TLQT-NR---',\n",
       " 'TLQTRNRHTK',\n",
       " 'TLQTRNRHTKI',\n",
       " 'TLVNATTHIR',\n",
       " 'TPGNLTRHGR',\n",
       " 'TPGNLTRHGRT',\n",
       " 'TPSGRKRHTK',\n",
       " 'TPTN-KS---',\n",
       " 'TQGGLAR---',\n",
       " 'TQGGLARHIRT',\n",
       " 'TQTARKRHTK',\n",
       " 'TRKELRSHIRT',\n",
       " 'TRTD-KK---',\n",
       " 'TRTN-KS---',\n",
       " 'TRTN-RS---',\n",
       " 'TRYSRKRHTK',\n",
       " 'TSAARKRHTK',\n",
       " 'TSADLTRHIR',\n",
       " 'TSANLSRDHLSK',\n",
       " 'TSANLTRHIR',\n",
       " 'TSASRKRHTK',\n",
       " 'TSGALTR---',\n",
       " 'TSGALTRHIR',\n",
       " 'TSGALTRRHKRT',\n",
       " 'TSGALTTHIRT',\n",
       " 'TSGALVRHIRT',\n",
       " 'TSGD-GR---',\n",
       " 'TSGDLVRHIRT',\n",
       " 'TSGDRGRHTK',\n",
       " 'TSGDRGRHTKI',\n",
       " 'TSGELVRHIRT',\n",
       " 'TSGGLAR---',\n",
       " 'TSGGLARHIRT',\n",
       " 'TSGGLTR---',\n",
       " 'TSGGLTRHIR',\n",
       " 'TSGGLTRHIRT',\n",
       " 'TSGHLVR',\n",
       " 'TSGHLVRAHLRW',\n",
       " 'TSGHLVRDHLSK',\n",
       " 'TSGHLVRHIRT',\n",
       " 'TSGHLVRRHKRT',\n",
       " 'TSGKLVRHIRT',\n",
       " 'TSGNLKR---',\n",
       " 'TSGNLKRHIRT',\n",
       " 'TSGNLLVHIRT',\n",
       " 'TSGNLTEHIRT',\n",
       " 'TSGNLVR',\n",
       " 'TSGNLVR---',\n",
       " 'TSGNLVRAHLRW',\n",
       " 'TSGNLVRHIRT',\n",
       " 'TSGNLVRHTKI',\n",
       " 'TSGNLVRRHKRT',\n",
       " 'TSGSLAR---',\n",
       " 'TSGSLARHIRT',\n",
       " 'TSGSLTR---',\n",
       " 'TSGSLTRHIRT',\n",
       " 'TSGSLVR',\n",
       " 'TSGSLVRHIRT',\n",
       " 'TSGTLTRHIR',\n",
       " 'TSGTLVRHIRT',\n",
       " 'TSHGLTTHIRT',\n",
       " 'TSHSLTEHIRT',\n",
       " 'TSNSRKRHTK',\n",
       " 'TSPNLTRHIR',\n",
       " 'TSQARKRHTK',\n",
       " 'TSQSLVRHIRT',\n",
       " 'TSQSQSPHIR',\n",
       " 'TSQTLVRHIRT',\n",
       " 'TSRDRKRHTK',\n",
       " 'TSSARKRHTK',\n",
       " 'TSSEADHHIR',\n",
       " 'TSSIRKRHTK',\n",
       " 'TSSLRKRHTK',\n",
       " 'TSSNRKK',\n",
       " 'TSSSRKRHTK',\n",
       " 'TSSVRKRHTK',\n",
       " 'TSTARKRHTK',\n",
       " 'TSTGLTRHIR',\n",
       " 'TSWELTRHIR',\n",
       " 'TTGALTEHIRT',\n",
       " 'TTGGLAR---',\n",
       " 'TTGGLARHIRT',\n",
       " 'TTGGLTR---',\n",
       " 'TTGGLTRHIRT',\n",
       " 'TTGNLTVHIRT',\n",
       " 'TTSALTRAHLRW',\n",
       " 'TTSSRKRHTK',\n",
       " 'TTTN-KS---',\n",
       " 'TTTN-RS---',\n",
       " 'VGHHRKRHTK',\n",
       " 'VNSH-KR---',\n",
       " 'VSHIQANHIR',\n",
       " 'VSSH-IR---',\n",
       " 'VSSNLNVHRRI',\n",
       " 'VSSSLRRHETT',\n",
       " 'VSSTLIRHQRI',\n",
       " 'VSSVRGLHTK',\n",
       " 'VTMQPTTHIR',\n",
       " 'VTMQPTTHIRT',\n",
       " 'WSSNRKRHTKI',\n",
       " 'YLNTPTTHIR',\n",
       " 'YRAAPTTHIR',\n",
       " 'YRYHLTTHIR',\n",
       " 'YSEELTRHIR']"
      ]
     },
     "execution_count": 6,
     "metadata": {},
     "output_type": "execute_result"
    }
   ],
   "source": [
    "fingers_dictionary"
   ]
  },
  {
   "cell_type": "code",
   "execution_count": 7,
   "id": "a3102a2e",
   "metadata": {},
   "outputs": [],
   "source": [
    "dna_dictionary = df['dna'].str.upper().unique()"
   ]
  },
  {
   "cell_type": "code",
   "execution_count": 8,
   "id": "215576bb",
   "metadata": {},
   "outputs": [
    {
     "data": {
      "text/plain": [
       "array(['CTCGCGGGGGCGGCC', 'CTCGATTGGGCGGCC', 'CTCGATAAAGCGGCC',\n",
       "       'CTCGATAACGCGGCC', 'CTCGATAAGGCGGCC', 'CTCGATAATGCGGCC',\n",
       "       'CTCGATACAGCGGCC', 'CTCGATACCGCGGCC', 'CTCGATACGGCGGCC',\n",
       "       'CTCGATACTGCGGCC', 'CTCGATAGAGCGGCC', 'CTCGATAGGGCGGCC',\n",
       "       'CTCGATATAGCGGCC', 'CTCGATATGGCGGCC', 'CTCGATATTGCGGCC',\n",
       "       'CTCGATAGTGCGGCC', 'CTCGATTAGGCGGCC', 'CTCGATCAAGCGGCC',\n",
       "       'CTCGATCCAGCGGCC', 'CTCGATCGAGCGGCC', 'CTCGATCTAGCGGCC',\n",
       "       'CTCGATCACGCGGCC', 'CTCGATCCCGCGGCC', 'CTCGATCGCGCGGCC',\n",
       "       'CTCGATCTCGCGGCC', 'CTCGATCAGGCGGCC', 'CTCGATCCGGCGGCC',\n",
       "       'CTCGATCGGGCGGCC', 'CTCGATCTGGCGGCC', 'CTCGATCATGCGGCC',\n",
       "       'CTCGATCCTGCGGCC', 'CTCGATCGTGCGGCC', 'CTCGATCTTGCGGCC',\n",
       "       'CCCGCGGGGGCGTCC', 'CCCGCGGGAGCGTCC', 'CCCGCGGGTGCGTCC',\n",
       "       'CCCGCGGGCGCGTCC', 'CCCGCGGAGGCGTCC', 'CCCGCGGAAGCGTCC',\n",
       "       'CCCGCGGATGCGTCC', 'CCCGCGGACGCGTCC', 'CCCGCGGTGGCGTCC',\n",
       "       'CCCGCGGTAGCGTCC', 'CCCGCGGTTGCGTCC', 'CCCGCGGTCGCGTCC',\n",
       "       'CCCGCGGCGGCGTCC', 'CCCGCGGCAGCGTCC', 'CCCGCGGCTGCGTCC',\n",
       "       'CCCGCGGCCGCGTCC', 'CCCGCGTGGGCGTCC', '---TAGGGGGAA---',\n",
       "       '---GGGGAAAAA---', '---GGGGATAAA---', '---GTTGAAGAG---',\n",
       "       '---GGTTGAGCG---', 'TCCCAGGGGGAAGTG', 'CCTCAGGGGGACCAA',\n",
       "       'GTACAAAGGGAATTG', 'GCAGATGGGGACAGG', 'GCCCATGGGGATACA',\n",
       "       'GGTGAGGGGGATGTG', 'ACACAGGGGACAGAG', 'CCAGAGGGGGGGTTG',\n",
       "       'GACTTGGGGGAAAAG', 'GGGGACGGGGATGTG', 'CCCAAGGGGGACTCT',\n",
       "       'GAGAAAGGGGAGAAA', 'CAGCCTGGGGAGCAT', 'AGGGCAGGGGAGTAG',\n",
       "       'ACATTTGGGGATCCA', '-GCGGGGGCGA', '-GCGGGGGAGA', '-GCGGGTGCGA',\n",
       "       '-GCGTGGGCGA', '-GAGGGGGCGA', '-GCGGGTGAGC', '-GCGGGGGCGC',\n",
       "       '-CTGGGGGCGT', '-GCGGGGGCGG', '-GCGGGGGCCG', '-GCGCGGGCGG',\n",
       "       '-GCGGGGGCAA', '-GAGGGGGCG-', '-GCGGCGGCGG', '-GGGGGGGCGG',\n",
       "       '-GCGGGGGGGG', '-GCGTGGGCGT', '-GCGTGGGCGG', '-GCGAGGGCGG',\n",
       "       '-GCGGAGGCGG', '-GCGGTGGCGG', '-GCGGGCGCGG', '-GCGGGAGCGG',\n",
       "       '-GCGGGTGCGG', '-GCGCCCGCGG', '-GCGTGGGACC', '-GCGTGGGCAC',\n",
       "       '-GCGTGGGCGC', '-GCGTGGGTGC', '-GCGTGGTCGC', '-GCGTGGACGC',\n",
       "       '-GCGTGGGAGC', '-GCGTGGGGGC', '-GCGTGGGCCC', '-GCGTGGGCTC',\n",
       "       '-GCGTGGGTAC', '-GCGTGGGTCC', '-GCGTGGGTTC', '-GCGCAGGCGT',\n",
       "       '-GCGTGAGCGT', '-GCGGAAGCGT', '-GCGGATGCGT', '-GCGGACGCGT',\n",
       "       '-GCGGCCGCGT', '-GCGGTCGCGT', '-GCGGCAGCGT', '-GCGGCTGCGT',\n",
       "       '-GCGACGGCGT', '-GCGATGGCGT', '-GCGGTAGCGT', '-GCGTTGGCGT',\n",
       "       '-GCGCCGGCGT', '-GCGGCGGCGT', '-GCGGTGGCGT', '-GCGACTGCGT',\n",
       "       '-GCGAAAGCGT', '-GCGTTTGCGT', '-GCGCCTGCGT', '-GCGCTTGCGT',\n",
       "       '-GCGTTCGCGT', '-GCGAGTGCGT', '-GCGCGAGCGT', '-GCGCATGCGT',\n",
       "       '-GCGAGAGCGT', '-GCGAGCGCGT', '-GCGAATGCGT', '-GCGGGGGCGT',\n",
       "       '-GCGTTAGCGT', '-GCGGTTGCGT', '-GCGGGAGCGT', '-GCGGAGGCGT',\n",
       "       '-GCGTAGGCGT', '-GCGTCGGCGT', '-GCGTGGTGTC', '-GCGTTGGCGC',\n",
       "       '-CTGTGGGCGC', '-GCGTGGGAG-', '-GCGTGGGCG-', '-GCGTGGGTG-',\n",
       "       '-ACGTGGGCG-', '-GCGTAGGCG-', '-GTGTAGGCG-', '-GCGGGGGCG-',\n",
       "       '-GGGTGGGCGT', '-CCGTGGGCGT', '-ACGTGGGCGT', '-ACGTGGGCAT',\n",
       "       '-GAGTGGGAGT', '-GCGCGGGCGT', '-GAGGGGGAGT', '-GAGGGGGAGC',\n",
       "       '-GAGTGGGCG-', '-GTGTGGGCG-', '-GAGTAGGCG-', '-GCGTAGGAG-',\n",
       "       '-GCGTAGGTG-', '-ACGTAGGCG-', '-GCGTAGGTGT', '-GCGTGGGTGT',\n",
       "       '-GAGTGGGTG-', '-GCGGGGGTG-', '-GGGGTGGGGA', '-GGGGTGGAGA',\n",
       "       '-GGGGAAGAAG', '-GCGGGGGCAG', '-GTAGGGGGCG', '-TCGGGGGCGG',\n",
       "       '-GCGGGGGTGA', '-GCGTGGGGG-', '-GCGTGGGCA-', '-GCGTGGGCC-',\n",
       "       '-GCGTGGGCT-', '-GAGGCAGAAC', '-GTGGGGGCGG', '-GTGGGGGAGG',\n",
       "       '-GTGGGGGTGG', '-GAGGGGGAGA', '-GTGTGGGTGT', '-GCGCGGGCGA',\n",
       "       '-GCTATAAAAG', '-GGGACATGTT', '-AAGGGTTCAG', '-GCGAGGGCGT',\n",
       "       '-GCGCTGGCGT', '-GCGTAGGAGG', '-GAGGGGGCGC', '-GGGGTGGGG-',\n",
       "       '-GCGTGGGCAT', '-GCGTGGGCCT', '-GCGTGGGCTT', '-GAGTGGGCGT',\n",
       "       '-GTGTGGGCGT', '-GCGTGGGAGT', '-GCGTGGGGGT', '-GCAGCGGCGT',\n",
       "       '-GCTGCGGCGT', '-GCATCGGCGT', '-GCCGCGGCGT', '-GCCCCGGCGT',\n",
       "       '-GCTCCGGCGT', '-GCACCGGCGT', '-GCTACGGCGT', '-GCTTCGGCGT',\n",
       "       '-GCCTCGGCGT', '-GCCACGGCGT', '-GCAACGGCGT', '-AAAGGGGCGT',\n",
       "       '-ATAAAAGGGG', '-TCAGGGGCGT', '-GGTTCAGGGG', '-TGTTGGGCGT',\n",
       "       '-ACATGTTGGG', '-GCGGGTGCGT', '-GCGGGCGCGT',\n",
       "       'TATATAGCGTGGGCGTATATA', 'TATATAGCGTAGGCGTATATA',\n",
       "       'TATATAGCGGGGGCGTATATA', 'TATATAGCGCGGGCGTATATA',\n",
       "       'TATATAGCGAGGGCGTATATA', 'TATATAGCGGAGGCGTATATA',\n",
       "       'TATATAGCGTTGGCGTATATA', 'TATATAGCGTCGGCGTATATA',\n",
       "       'TATATAGCGCAGGCGTATATA', 'TATATAGCGAAGGCGTATATA',\n",
       "       'TATATAGCGTGAGCGTATATA', 'TATATAGCGAAAGCGTATATA',\n",
       "       'TATATAGCGGCGGCGTATATA', 'TATATAGCGTTCGCGTATATA',\n",
       "       'TATATAGCGAGAGCGTATATA', 'TATATAGCGGGAGCGTATATA',\n",
       "       'TATATAGCGGATGCGTATATA', 'TATATAGCGCCAGCGTATATA',\n",
       "       'TATATAGCGATAGCGTATATA', 'TATATAGCGTAAGCGTATATA',\n",
       "       'TATATAGCGGCAGCGTATATA', 'TATATAGCGCAAGCGTATATA',\n",
       "       'TATATAGCGGAAGCGTATATA', 'TATATAGCGAACGCGTATATA',\n",
       "       'TATATAGCGATCGCGTATATA', 'TATATAGCGGTAGCGTATATA',\n",
       "       'TATATAGCGGCTGCGTATATA', 'TATATAGCGTTAGCGTATATA',\n",
       "       'TATATAGCGTCAGCGTATATA', 'TATATAGCGGACGCGTATATA',\n",
       "       'TATATAGCGTATGCGTATATA', 'TATATAGCGGTCGCGTATATA',\n",
       "       'TATATAGCGGTGGCGTATATA', 'TATATAGCGGCCGCGTATATA',\n",
       "       'TATATAGCGCATGCGTATATA', 'TATATAGCGACAGCGTATATA',\n",
       "       'TATATAGCGTCTGCGTATATA', 'TATATAGCGGTTGCGTATATA',\n",
       "       'TATATAGCGTCCGCGTATATA', 'TATATAGCGCGAGCGTATATA',\n",
       "       'TATATAGCGCACGCGTATATA', 'TATATAGCGGGCGCGTATATA',\n",
       "       'TATATAGCGTACGCGTATATA', 'TATATAGCGGGTGCGTATATA',\n",
       "       'TATATAGCGATGGCGTATATA', 'TATATAGCGTGCGCGTATATA',\n",
       "       'TATATAGCGCTCGCGTATATA', 'TATATAGCGAGCGCGTATATA',\n",
       "       'TATATAGCGCGTGCGTATATA', 'TATATAGCGTTTGCGTATATA',\n",
       "       'TATATAGCGAATGCGTATATA', 'TATATAGCGTGTGCGTATATA',\n",
       "       'TATATAGCGATTGCGTATATA', 'TATATAGCGACCGCGTATATA',\n",
       "       'TATATAGCGCTGGCGTATATA', 'TATATAGCGACTGCGTATATA',\n",
       "       'TATATAGCGAGTGCGTATATA', 'TATATAGCGCCTGCGTATATA',\n",
       "       'TATATAGCGCTTGCGTATATA', 'TATATAGCGCCCGCGTATATA',\n",
       "       'TATATAGCGCTAGCGTATATA', 'TATATAGCGCGCGCGTATATA',\n",
       "       'TATATAGCGCCGGCGTATATA', 'TATATAGCGACGGCGTATATA',\n",
       "       'TCTGTCTGGGCGGAA', 'TCTGCCTGGGCGGAA', 'TCTGTTTGGGCGGAA',\n",
       "       'TCTGAGTGGGCGGAA', 'TCTGGATGGGCGGAA', 'TCTGAATGGGCGGAA',\n",
       "       'TCTCGATGGGCGGAA', 'TCTCAATGGGCGGAA', 'TCTGTATGGGCGGAA',\n",
       "       'TCTGGGTGGGCGGAA', 'TCTGGTTGGGCGGAA', 'TCTGCGTGGGCGGAA',\n",
       "       'TCTGACTGGGCGGAA', 'TCTGATTGGGCGGAA', 'TCTAGATGGGCGGAA',\n",
       "       'TCTAGGTGGGCGGAA', 'TCTAATTGGGCGGAA', 'TCTGTGTGGGCGGAA',\n",
       "       'TCTGCTTGGGCGGAA', '-TGGGTGGGG-', '-GAGGCGTGGC', '-GAGGCGTTTC',\n",
       "       '-GAGGCGTGGT', '---GGGGCTGGGT--', '---GGGGGTGGGT--',\n",
       "       '---GGGGATGGGT--', '---GGGGCGGGGT--', '---GGGGAGGGGT--',\n",
       "       '---GGGGTGGGGT--', '---GCGGCGGCGT--', 'TATGGGGCGGCTTAC',\n",
       "       '---GGGGCTGCGT--', 'TACGGGGCGGCTTAT', 'GGCTATAAAAG', 'TGGGACATGTT',\n",
       "       'CAAGGGTTCAG', 'TCCAGGGAGGCGTGG', 'CGGGACTGGGGAGTG',\n",
       "       'TCAGATGCTGCATAT', 'TAAGCAGCTGCTTTT', 'CAGATCTGAGCCTGG',\n",
       "       'CTGGGAGCTCTCTGG', 'CTGGCTAACTAGGGA', 'GATCCGCGTGGGAGCTGCA',\n",
       "       'GATCCGCGTGGGCGCTGCA', 'GATCCGCGTGGGGGCTGCA',\n",
       "       'GATCCGCGTGGGTGCTGCA', 'GATCCGCGTGGGCACTGCA',\n",
       "       'GATCCGCGTGGGCCCTGCA', 'GATCCGCGTGGGCTCTGCA',\n",
       "       'GATCCGCGTGGGTACTGCA', 'GATCCGCGTGGGTCCTGCA',\n",
       "       'GATCCGCGTGGGTTCTGCA', '-GGGGCGGGG-', '-GGGGCGGAG-', '-GGGGCGGGA-',\n",
       "       '-TGGGCGGAG-', '-TGGGCGGAA-', '-GGTGGGGAT-', '-GGGGAGGTG-',\n",
       "       '-AAGGCGGGT-', '-TGGGCGGGG-', '-GGGGCGTGG-', '-GGGGAGGGG-',\n",
       "       '-AGGGCGGGG-', '-GGGGCTGGG-', '-GAGGCGGAG-', '-GGGGAGGGA-',\n",
       "       '-TGGGCGGGA-', '-TGGGAGGAG-', '-GCGGGGGCC-', '-GGGGGTGGG-',\n",
       "       '-TCGGGGGCG-', '-AGGGTGTGG-', '-GCGGGGGAG-', '-CCGGGGGCG-',\n",
       "       '-CTGTGGGCA-', '-GAGGGGGAG-', '-CCGTGGGAG-', '-GCGGGGGGA-',\n",
       "       '-GAGTCGGAC-', '-GAGGTGGAC-', '-GGGGGTGCT-', '-GGGGGAGCT-',\n",
       "       '-GGGGGCGCT-', '-GAGGAGGAG-', '-GGGGGGGGG-', '-GTGGTGGTG-',\n",
       "       '-GCGGCGGCG-', '-GCAGCAGCA-', '-GCTGCTGCT-', '-GCCGCCGCC-',\n",
       "       '-GAAGAAGAA-', '-GATGATGAT-', '-GACGACGAC-', '-GGAGGAGGA-',\n",
       "       '-GGTGGTGGT-', '-GGCGGCGGC-', '-GTAGTAGTA-', '-GTTGTTGTT-',\n",
       "       '-GTCGTCGTC-', '-GCGGTGGCT-', '-GAGGTGGCT-', '-GTGGTGGCT-',\n",
       "       '-GCGGGGGCT-', '-GCGGTGGAT-', '-GCGGTGGCG-', 'GTACGCGGGGGCGGTTA',\n",
       "       'GTACGCGCGGGCGGTTA', 'GTACGCGAGGGCGGTTA', 'GTACGCGTGGGCGGTTA',\n",
       "       'GTACGCGGCGGCGGTTA', 'GTACGCGGAGGCGGTTA', 'GTACGCGGTGGCGGTTA',\n",
       "       'GTACGCGGGCGCGGTTA', 'GTACGCGGGAGCGGTTA', 'GTACGCGGGTGCGGTTA',\n",
       "       'GTACGCGCCGGCGGTTA', 'GTACGCGCGCGCGGTTA', 'GTACGCGGCCGCGGTTA',\n",
       "       'GTACGCGCCCGCGGTTA', 'TAACCGCGGGCGCGTAC', 'AGCGTGGGACC',\n",
       "       'AGCGTGGGCGT', 'AGCGTGGGCAC', 'CGCTATAAAAG', 'AGCGTGGGCGG',\n",
       "       'AGCGTGGGCTG', 'GGCGTGGGCGG', 'AGCAGCTGAGCGTGGGACCAGTGAGCT',\n",
       "       'AGCAGCTGAGCGTGGGCACAGTGAGCT', 'AGCAGCTGAGCGTGGGCGCAGTGAGCT',\n",
       "       'GTGGCCTGGGCGGGA', '-GAGGCGCGGA', '-GAGGGGTGGT', '-TCGGGGTGGT',\n",
       "       '-AGGGCAGGCT', '-AGGGCGTATA', '-GTGGCGGTGT', '-TGGGTAGGGA',\n",
       "       '-GAGGCGGGCC', '-CGGGCTGGAT', '-GGGGCTGTGT', '-GGGGCAGGGC',\n",
       "       'CCCGTCAAGGGTTCAGTCCGG', 'CCCCTTGGGACATGTTCCTGG',\n",
       "       '-----GGCTATAAAAG-----', 'CCTGCGTGGGCGCCC', 'CCTGCGTGGTGTCCC',\n",
       "       'CCTGCGTTGGCGCCC', 'CCTCTGTGGGCGCCC'], dtype=object)"
      ]
     },
     "execution_count": 8,
     "metadata": {},
     "output_type": "execute_result"
    }
   ],
   "source": [
    "dna_dictionary"
   ]
  },
  {
   "cell_type": "code",
   "execution_count": 9,
   "id": "7c48557a",
   "metadata": {},
   "outputs": [],
   "source": [
    "dna_data = df['dna'].str.upper().map(lambda x: list(dna_dictionary).index(x))"
   ]
  },
  {
   "cell_type": "code",
   "execution_count": null,
   "id": "12c47f01",
   "metadata": {},
   "outputs": [],
   "source": []
  },
  {
   "cell_type": "code",
   "execution_count": 10,
   "id": "1a9c1e1e",
   "metadata": {},
   "outputs": [],
   "source": [
    "finger_data = np.array([df['f1'].str.upper().map(lambda x: list(fingers_dictionary).index(x)).values, \n",
    " df['f2'].str.upper().map(lambda x: list(fingers_dictionary).index(x)).values,\n",
    " df['f3'].str.upper().map(lambda x: list(fingers_dictionary).index(x)).values])"
   ]
  },
  {
   "cell_type": "code",
   "execution_count": 11,
   "id": "e78814a9",
   "metadata": {},
   "outputs": [
    {
     "data": {
      "text/plain": [
       "(3099,)"
      ]
     },
     "execution_count": 11,
     "metadata": {},
     "output_type": "execute_result"
    }
   ],
   "source": [
    "dna_data.shape"
   ]
  },
  {
   "cell_type": "code",
   "execution_count": 12,
   "id": "1dbcce73",
   "metadata": {},
   "outputs": [
    {
     "data": {
      "text/plain": [
       "(3, 3099)"
      ]
     },
     "execution_count": 12,
     "metadata": {},
     "output_type": "execute_result"
    }
   ],
   "source": [
    "finger_data.shape"
   ]
  },
  {
   "cell_type": "code",
   "execution_count": 13,
   "id": "b08dc2f1",
   "metadata": {},
   "outputs": [
    {
     "data": {
      "text/plain": [
       "0    0\n",
       "1    0\n",
       "2    0\n",
       "3    0\n",
       "4    0\n",
       "Name: dna, dtype: int64"
      ]
     },
     "execution_count": 13,
     "metadata": {},
     "output_type": "execute_result"
    }
   ],
   "source": [
    "dna_data[0:5]"
   ]
  },
  {
   "cell_type": "code",
   "execution_count": 14,
   "id": "4695879b",
   "metadata": {},
   "outputs": [
    {
     "data": {
      "text/plain": [
       "dna    110.0\n",
       "dtype: float64"
      ]
     },
     "execution_count": 14,
     "metadata": {},
     "output_type": "execute_result"
    }
   ],
   "source": [
    "pd.DataFrame(dna_data).median()"
   ]
  },
  {
   "cell_type": "code",
   "execution_count": 15,
   "id": "f9fd817e",
   "metadata": {},
   "outputs": [
    {
     "data": {
      "text/plain": [
       "array([[179, 179, 179, 179, 179, 179, 179, 179, 179, 179, 179, 179],\n",
       "       [689, 689, 689, 689, 689, 689, 689, 689, 689, 689, 689, 689],\n",
       "       [653, 653, 653, 653, 653, 653, 653, 653, 653, 653, 653, 653]])"
      ]
     },
     "execution_count": 15,
     "metadata": {},
     "output_type": "execute_result"
    }
   ],
   "source": [
    "finger_data[:, dna_data == 0]"
   ]
  },
  {
   "cell_type": "code",
   "execution_count": 16,
   "id": "c90ad30a",
   "metadata": {},
   "outputs": [
    {
     "data": {
      "text/plain": [
       "array([179, 273, 366, 417, 454, 653])"
      ]
     },
     "execution_count": 16,
     "metadata": {},
     "output_type": "execute_result"
    }
   ],
   "source": [
    "np.unique(finger_data[:, dna_data == 34])"
   ]
  },
  {
   "cell_type": "code",
   "execution_count": 17,
   "id": "1b5d0e4a",
   "metadata": {},
   "outputs": [
    {
     "data": {
      "text/plain": [
       "179    49\n",
       "653    49\n",
       "454    23\n",
       "366    19\n",
       "417     6\n",
       "273     1\n",
       "dtype: int64"
      ]
     },
     "execution_count": 17,
     "metadata": {},
     "output_type": "execute_result"
    }
   ],
   "source": [
    "pd.Series(finger_data[:, dna_data == 34].ravel()).value_counts()"
   ]
  },
  {
   "cell_type": "code",
   "execution_count": 18,
   "id": "680da286",
   "metadata": {},
   "outputs": [
    {
     "data": {
      "text/plain": [
       "array([[179, 179, 179, 179, 179, 179, 179, 179, 179, 179, 179, 179, 179,\n",
       "        179, 179, 179, 179, 179, 179, 179, 179, 179, 179, 179, 179, 179,\n",
       "        179, 179, 179, 179, 179, 179, 179, 179, 179, 179, 179, 179, 179,\n",
       "        179, 179, 179, 179, 179, 179, 179, 179, 179, 179],\n",
       "       [366, 273, 366, 366, 366, 366, 366, 366, 366, 366, 366, 366, 454,\n",
       "        417, 366, 454, 366, 366, 366, 454, 454, 454, 454, 454, 454, 454,\n",
       "        454, 454, 454, 417, 417, 417, 417, 417, 366, 366, 366, 366, 454,\n",
       "        454, 454, 454, 454, 454, 454, 454, 454, 454, 454],\n",
       "       [653, 653, 653, 653, 653, 653, 653, 653, 653, 653, 653, 653, 653,\n",
       "        653, 653, 653, 653, 653, 653, 653, 653, 653, 653, 653, 653, 653,\n",
       "        653, 653, 653, 653, 653, 653, 653, 653, 653, 653, 653, 653, 653,\n",
       "        653, 653, 653, 653, 653, 653, 653, 653, 653, 653]])"
      ]
     },
     "execution_count": 18,
     "metadata": {},
     "output_type": "execute_result"
    }
   ],
   "source": [
    "finger_data[:, dna_data == 34]"
   ]
  },
  {
   "cell_type": "code",
   "execution_count": 19,
   "id": "f2185624",
   "metadata": {},
   "outputs": [
    {
     "data": {
      "text/plain": [
       "array([[179, 179, 179, 179, 179, 179, 179, 179, 179, 179, 179, 179, 179,\n",
       "        179, 179, 179, 179, 179, 179, 179, 179, 179, 179, 179, 179, 179,\n",
       "        179, 179, 179, 179, 179, 179, 179, 179, 179, 179, 179, 179, 179,\n",
       "        179, 179, 179, 179, 179, 179, 179, 179, 179, 179, 179, 179, 179,\n",
       "        179, 179, 179, 179, 179, 179, 179, 179, 179, 179, 179, 179, 179,\n",
       "        179, 179, 179, 179, 179, 179, 179, 179, 179, 179, 179, 179, 179],\n",
       "       [806, 828, 854, 898, 928, 926, 877, 880, 900, 902, 806, 806, 806,\n",
       "        806, 806, 806, 806, 884, 884, 884, 884, 884, 884, 884, 884, 884,\n",
       "        884, 884, 884, 884, 884, 884, 884, 884, 900, 902, 870, 884, 804,\n",
       "        884, 884, 884, 884, 884, 884, 900, 900, 900, 900, 900, 900, 900,\n",
       "        902, 902, 902, 902, 902, 870, 870, 870, 870, 870, 870, 870, 884,\n",
       "        884, 884, 884, 884, 804, 804, 804, 804, 804, 804, 804, 804, 804],\n",
       "       [653, 653, 653, 653, 653, 653, 653, 653, 653, 653, 653, 653, 653,\n",
       "        653, 653, 653, 653, 653, 653, 653, 653, 653, 653, 653, 653, 653,\n",
       "        653, 653, 653, 653, 653, 653, 653, 653, 653, 653, 653, 653, 653,\n",
       "        653, 653, 653, 653, 653, 653, 653, 653, 653, 653, 653, 653, 653,\n",
       "        653, 653, 653, 653, 653, 653, 653, 653, 653, 653, 653, 653, 653,\n",
       "        653, 653, 653, 653, 653, 653, 653, 653, 653, 653, 653, 653, 653]])"
      ]
     },
     "execution_count": 19,
     "metadata": {},
     "output_type": "execute_result"
    }
   ],
   "source": [
    "finger_data[:, dna_data == 35]"
   ]
  },
  {
   "cell_type": "code",
   "execution_count": 20,
   "id": "364d4d3d",
   "metadata": {},
   "outputs": [
    {
     "data": {
      "text/plain": [
       "['cccgcgGGTgcgtcc']"
      ]
     },
     "execution_count": 20,
     "metadata": {},
     "output_type": "execute_result"
    }
   ],
   "source": [
    "list(df['dna'].loc[dna_data[dna_data == 35].index].unique())"
   ]
  },
  {
   "cell_type": "code",
   "execution_count": 21,
   "id": "5a300bb4",
   "metadata": {},
   "outputs": [
    {
     "data": {
      "text/plain": [
       "['cccgcgGGAgcgtcc']"
      ]
     },
     "execution_count": 21,
     "metadata": {},
     "output_type": "execute_result"
    }
   ],
   "source": [
    "list(df['dna'].loc[dna_data[dna_data == 34].index].unique())"
   ]
  },
  {
   "cell_type": "code",
   "execution_count": 22,
   "id": "4d5ba76b",
   "metadata": {},
   "outputs": [
    {
     "data": {
      "text/plain": [
       "array([[179, 179, 179, 179, 179, 179, 179, 179, 179, 179, 179, 179, 179,\n",
       "        179, 179, 179, 179, 179, 179, 179, 179, 179, 179, 179, 179, 179,\n",
       "        179, 179, 179, 179, 179, 179, 179, 179, 179, 179, 179, 179, 179,\n",
       "        179, 179, 179, 179, 179, 179, 179, 179, 179, 179, 179, 179, 179,\n",
       "        179, 179, 179, 179, 179, 179, 179, 179, 179, 179, 179, 179, 179,\n",
       "        179, 179, 179, 179, 179, 179, 179, 179, 179, 179, 179, 179, 179,\n",
       "        179, 179, 179, 179, 179],\n",
       "       [ 98,  98,  98,  98,  98,  98,  98,  98,  98,  98,  98,  32,  32,\n",
       "         32,  32,  32,  32,  32,  32,  32,  32,  32,  32, 884,  32, 192,\n",
       "         32,  98,  51,  33,  31, 367, 457, 886, 192, 192,  32,  32,  32,\n",
       "         32,  32,  32,  32,  32,  32,  98,  98,  98,  51,  51,  51,  51,\n",
       "         51,  51,  51,  51,  51,  33,  33,  33,  33,  33,  33,  31,  31,\n",
       "         31,  31,  31,  31,  31,  31,  31,  31, 367, 367, 367, 367, 457,\n",
       "        457, 457, 457, 457, 886],\n",
       "       [653, 653, 653, 653, 653, 653, 653, 653, 653, 653, 653, 653, 653,\n",
       "        653, 653, 653, 653, 653, 653, 653, 653, 653, 653, 653, 653, 653,\n",
       "        653, 653, 653, 653, 653, 653, 653, 653, 653, 653, 653, 653, 653,\n",
       "        653, 653, 653, 653, 653, 653, 653, 653, 653, 653, 653, 653, 653,\n",
       "        653, 653, 653, 653, 653, 653, 653, 653, 653, 653, 653, 653, 653,\n",
       "        653, 653, 653, 653, 653, 653, 653, 653, 653, 653, 653, 653, 653,\n",
       "        653, 653, 653, 653, 653]])"
      ]
     },
     "execution_count": 22,
     "metadata": {},
     "output_type": "execute_result"
    }
   ],
   "source": [
    "finger_data[:, dna_data == 36]"
   ]
  },
  {
   "cell_type": "code",
   "execution_count": 23,
   "id": "fba88e1a",
   "metadata": {},
   "outputs": [
    {
     "data": {
      "text/plain": [
       "['cccgcgGGCgcgtcc']"
      ]
     },
     "execution_count": 23,
     "metadata": {},
     "output_type": "execute_result"
    }
   ],
   "source": [
    "list(df['dna'].loc[dna_data[dna_data == 36].index].unique())"
   ]
  },
  {
   "cell_type": "code",
   "execution_count": 24,
   "id": "7e4546d8",
   "metadata": {},
   "outputs": [
    {
     "data": {
      "text/plain": [
       "['cccgcgGAGgcgtcc']"
      ]
     },
     "execution_count": 24,
     "metadata": {},
     "output_type": "execute_result"
    }
   ],
   "source": [
    "list(df['dna'].loc[dna_data[dna_data == 37].index].unique())"
   ]
  },
  {
   "cell_type": "code",
   "execution_count": 25,
   "id": "75d50fd4",
   "metadata": {},
   "outputs": [
    {
     "data": {
      "text/plain": [
       "array([[179, 179, 179, 179, 179, 179, 179, 179, 179, 179, 179, 179, 179,\n",
       "        179, 179, 179, 179, 179, 179, 179, 179, 179, 179, 179, 179, 179,\n",
       "        179, 179, 179, 179, 179, 179, 179, 179, 179, 179, 179, 179, 179,\n",
       "        179, 179, 179, 179, 179, 179, 179, 179, 179, 179, 179, 179, 179,\n",
       "        179, 179, 179, 179, 179, 179, 179, 179, 179, 179, 179, 179, 179,\n",
       "        179, 179, 179, 179, 179, 179, 179, 179, 179, 179, 179, 179, 179,\n",
       "        179, 179, 179, 179, 179, 179, 179],\n",
       "       [706, 595, 522, 543, 628, 706, 706, 706, 706, 706, 706, 706, 706,\n",
       "        706, 706, 706, 706, 706, 706, 711, 711, 711, 711, 711, 711, 711,\n",
       "        711, 711, 647, 628, 706, 711, 620, 628, 716, 724, 615, 187, 190,\n",
       "        191, 646, 613, 706, 706, 706, 706, 706, 706, 706, 706, 706, 706,\n",
       "        706, 711, 711, 620, 620, 628, 716, 716, 716, 716, 724, 724, 724,\n",
       "        724, 187, 187, 190, 190, 190, 190, 646, 646, 646, 646, 613, 613,\n",
       "        613, 613, 613, 613, 613, 613, 613],\n",
       "       [653, 653, 653, 653, 653, 653, 653, 653, 653, 653, 653, 653, 653,\n",
       "        653, 653, 653, 653, 653, 653, 653, 653, 653, 653, 653, 653, 653,\n",
       "        653, 653, 653, 653, 653, 653, 653, 653, 653, 653, 653, 653, 653,\n",
       "        653, 653, 653, 653, 653, 653, 653, 653, 653, 653, 653, 653, 653,\n",
       "        653, 653, 653, 653, 653, 653, 653, 653, 653, 653, 653, 653, 653,\n",
       "        653, 653, 653, 653, 653, 653, 653, 653, 653, 653, 653, 653, 653,\n",
       "        653, 653, 653, 653, 653, 653, 653]])"
      ]
     },
     "execution_count": 25,
     "metadata": {},
     "output_type": "execute_result"
    }
   ],
   "source": [
    "finger_data[:, dna_data == 37]"
   ]
  },
  {
   "cell_type": "code",
   "execution_count": 26,
   "id": "bd825065",
   "metadata": {},
   "outputs": [
    {
     "data": {
      "text/plain": [
       "[nan,\n",
       " 'cccgcgGGGgcgtcc',\n",
       " 'cccgcgGGAgcgtcc',\n",
       " 'cccgcgGGTgcgtcc',\n",
       " 'cccgcgGGCgcgtcc',\n",
       " 'cccgcgGAAgcgtcc',\n",
       " 'cccgcgGATgcgtcc',\n",
       " 'cccgcgGACgcgtcc',\n",
       " 'cccgcgGTGgcgtcc',\n",
       " 'cccgcgGTAgcgtcc',\n",
       " 'cccgcgGTTgcgtcc',\n",
       " 'cccgcgGTCgcgtcc',\n",
       " 'cccgcgGCGgcgtcc',\n",
       " 'cccgcgGCAgcgtcc',\n",
       " 'cccgcgGCCgcgtcc',\n",
       " 'cccgcgGCTgcgtcc']"
      ]
     },
     "execution_count": 26,
     "metadata": {},
     "output_type": "execute_result"
    }
   ],
   "source": [
    "list(df['dna2'].loc[dna_data[dna_data == 37].index].unique())"
   ]
  },
  {
   "cell_type": "code",
   "execution_count": 27,
   "id": "ac8d67c6",
   "metadata": {},
   "outputs": [
    {
     "data": {
      "text/plain": [
       "['cccgcgGAGgcgtcc']"
      ]
     },
     "execution_count": 27,
     "metadata": {},
     "output_type": "execute_result"
    }
   ],
   "source": [
    "list(df['dna'].loc[dna_data[dna_data == 37].index].unique())"
   ]
  },
  {
   "cell_type": "markdown",
   "id": "21a5ad30",
   "metadata": {},
   "source": [
    "+ Look at f2 when dna > dna2: is it consistent \n",
    "+ Does the variation in f2 come from dna2 > dna - NO"
   ]
  },
  {
   "cell_type": "code",
   "execution_count": 28,
   "id": "d372284d",
   "metadata": {},
   "outputs": [
    {
     "data": {
      "text/plain": [
       "array([706, 595, 522, 543, 628, 706, 706, 706, 706, 706, 706, 706, 706,\n",
       "       706, 706, 706, 706, 706, 706, 711, 711, 711, 711, 711, 711, 711,\n",
       "       711, 711, 647, 628, 706, 711, 620, 628, 716, 724, 615, 187, 190,\n",
       "       191, 646, 613, 706, 706, 706, 706, 706, 706, 706, 706, 706, 706,\n",
       "       706, 711, 711, 620, 620, 628, 716, 716, 716, 716, 724, 724, 724,\n",
       "       724, 187, 187, 190, 190, 190, 190, 646, 646, 646, 646, 613, 613,\n",
       "       613, 613, 613, 613, 613, 613, 613])"
      ]
     },
     "execution_count": 28,
     "metadata": {},
     "output_type": "execute_result"
    }
   ],
   "source": [
    "finger_data[1, dna_data == 37]"
   ]
  },
  {
   "cell_type": "markdown",
   "id": "df783f44",
   "metadata": {},
   "source": [
    "# Plan\n",
    "\n",
    "1. Fields:\n",
    "* Input = 'dna'\n",
    "* Output = 'f1', 'f2', 'f3'\n",
    "\n",
    "2. Transforms\n",
    "* Dictionary for 'dna' and for 'f' fields\n",
    "\n",
    "3. LSTM text generation (https://machinelearningmastery.com/text-generation-lstm-recurrent-neural-networks-python-keras/)\n"
   ]
  },
  {
   "cell_type": "markdown",
   "id": "62a74531",
   "metadata": {},
   "source": [
    "# Step 1: Get input and output fields"
   ]
  },
  {
   "cell_type": "code",
   "execution_count": 29,
   "id": "f9f4412c",
   "metadata": {},
   "outputs": [
    {
     "data": {
      "text/plain": [
       "(3099,)"
      ]
     },
     "execution_count": 29,
     "metadata": {},
     "output_type": "execute_result"
    }
   ],
   "source": [
    "dna_data.values.shape"
   ]
  },
  {
   "cell_type": "code",
   "execution_count": 30,
   "id": "064023a8",
   "metadata": {},
   "outputs": [
    {
     "data": {
      "text/plain": [
       "(3, 3099)"
      ]
     },
     "execution_count": 30,
     "metadata": {},
     "output_type": "execute_result"
    }
   ],
   "source": [
    "finger_data.shape"
   ]
  },
  {
   "cell_type": "markdown",
   "id": "dbd01ccf",
   "metadata": {},
   "source": [
    "# Step 2: Pandas to the rescue\n",
    "\n",
    "Pandas already has the one hot encoding for column"
   ]
  },
  {
   "cell_type": "code",
   "execution_count": 31,
   "id": "4a4403ff",
   "metadata": {},
   "outputs": [],
   "source": [
    "fingers_onehot = pd.get_dummies(df, columns=['f1', 'f2', 'f3'])"
   ]
  },
  {
   "cell_type": "code",
   "execution_count": 32,
   "id": "781e9833",
   "metadata": {},
   "outputs": [
    {
     "data": {
      "text/plain": [
       "(3099, 180)"
      ]
     },
     "execution_count": 32,
     "metadata": {},
     "output_type": "execute_result"
    }
   ],
   "source": [
    "fingers_onehot.filter(like='f1_').values.shape"
   ]
  },
  {
   "cell_type": "code",
   "execution_count": 33,
   "id": "4396b71b",
   "metadata": {},
   "outputs": [],
   "source": [
    "dna_onehot = pd.get_dummies(df, columns=['dna'])"
   ]
  },
  {
   "cell_type": "code",
   "execution_count": 34,
   "id": "48b64b2c",
   "metadata": {},
   "outputs": [
    {
     "data": {
      "text/plain": [
       "(3099, 504)"
      ]
     },
     "execution_count": 34,
     "metadata": {},
     "output_type": "execute_result"
    }
   ],
   "source": [
    "dna_onehot.shape"
   ]
  },
  {
   "cell_type": "code",
   "execution_count": 35,
   "id": "e4e06c59",
   "metadata": {},
   "outputs": [
    {
     "data": {
      "text/html": [
       "<div>\n",
       "<style scoped>\n",
       "    .dataframe tbody tr th:only-of-type {\n",
       "        vertical-align: middle;\n",
       "    }\n",
       "\n",
       "    .dataframe tbody tr th {\n",
       "        vertical-align: top;\n",
       "    }\n",
       "\n",
       "    .dataframe thead th {\n",
       "        text-align: right;\n",
       "    }\n",
       "</style>\n",
       "<table border=\"1\" class=\"dataframe\">\n",
       "  <thead>\n",
       "    <tr style=\"text-align: right;\">\n",
       "      <th></th>\n",
       "      <th>Unnamed: 0</th>\n",
       "      <th>source</th>\n",
       "      <th>f1</th>\n",
       "      <th>f2</th>\n",
       "      <th>f3</th>\n",
       "      <th>ex</th>\n",
       "      <th>Kd</th>\n",
       "      <th>dna2</th>\n",
       "      <th>f4</th>\n",
       "      <th>f5</th>\n",
       "      <th>...</th>\n",
       "      <th>dna_tctGCCtgggcggaa</th>\n",
       "      <th>dna_tctGCGtgggcggaa</th>\n",
       "      <th>dna_tctGCTtgggcggaa</th>\n",
       "      <th>dna_tctGGAtgggcggaa</th>\n",
       "      <th>dna_tctGGGtgggcggaa</th>\n",
       "      <th>dna_tctGGTtgggcggaa</th>\n",
       "      <th>dna_tctGTAtgggcggaa</th>\n",
       "      <th>dna_tctGTCtgggcggaa</th>\n",
       "      <th>dna_tctGTGtgggcggaa</th>\n",
       "      <th>dna_tctGTTtgggcggaa</th>\n",
       "    </tr>\n",
       "  </thead>\n",
       "  <tbody>\n",
       "    <tr>\n",
       "      <th>0</th>\n",
       "      <td>0</td>\n",
       "      <td>DBSFB01</td>\n",
       "      <td>KSADLKRHIRI</td>\n",
       "      <td>RSDHLTTHIRT</td>\n",
       "      <td>RSDERKRHTKI</td>\n",
       "      <td>Kd</td>\n",
       "      <td>0.5</td>\n",
       "      <td>NaN</td>\n",
       "      <td>NaN</td>\n",
       "      <td>NaN</td>\n",
       "      <td>...</td>\n",
       "      <td>0</td>\n",
       "      <td>0</td>\n",
       "      <td>0</td>\n",
       "      <td>0</td>\n",
       "      <td>0</td>\n",
       "      <td>0</td>\n",
       "      <td>0</td>\n",
       "      <td>0</td>\n",
       "      <td>0</td>\n",
       "      <td>0</td>\n",
       "    </tr>\n",
       "    <tr>\n",
       "      <th>1</th>\n",
       "      <td>4</td>\n",
       "      <td>DBSFB01</td>\n",
       "      <td>KSADLKRHIRI</td>\n",
       "      <td>RSDHLTTHIRT</td>\n",
       "      <td>RSDERKRHTKI</td>\n",
       "      <td>&gt;</td>\n",
       "      <td>NaN</td>\n",
       "      <td>ctcgcgGACgcggcc</td>\n",
       "      <td>NaN</td>\n",
       "      <td>NaN</td>\n",
       "      <td>...</td>\n",
       "      <td>0</td>\n",
       "      <td>0</td>\n",
       "      <td>0</td>\n",
       "      <td>0</td>\n",
       "      <td>0</td>\n",
       "      <td>0</td>\n",
       "      <td>0</td>\n",
       "      <td>0</td>\n",
       "      <td>0</td>\n",
       "      <td>0</td>\n",
       "    </tr>\n",
       "    <tr>\n",
       "      <th>2</th>\n",
       "      <td>5</td>\n",
       "      <td>DBSFB01</td>\n",
       "      <td>KSADLKRHIRI</td>\n",
       "      <td>RSDHLTTHIRT</td>\n",
       "      <td>RSDERKRHTKI</td>\n",
       "      <td>&gt;</td>\n",
       "      <td>NaN</td>\n",
       "      <td>ctcgcgGATgcggcc</td>\n",
       "      <td>NaN</td>\n",
       "      <td>NaN</td>\n",
       "      <td>...</td>\n",
       "      <td>0</td>\n",
       "      <td>0</td>\n",
       "      <td>0</td>\n",
       "      <td>0</td>\n",
       "      <td>0</td>\n",
       "      <td>0</td>\n",
       "      <td>0</td>\n",
       "      <td>0</td>\n",
       "      <td>0</td>\n",
       "      <td>0</td>\n",
       "    </tr>\n",
       "    <tr>\n",
       "      <th>3</th>\n",
       "      <td>6</td>\n",
       "      <td>DBSFB01</td>\n",
       "      <td>KSADLKRHIRI</td>\n",
       "      <td>RSDHLTTHIRT</td>\n",
       "      <td>RSDERKRHTKI</td>\n",
       "      <td>&gt;</td>\n",
       "      <td>NaN</td>\n",
       "      <td>ctcgcgGCAgcggcc</td>\n",
       "      <td>NaN</td>\n",
       "      <td>NaN</td>\n",
       "      <td>...</td>\n",
       "      <td>0</td>\n",
       "      <td>0</td>\n",
       "      <td>0</td>\n",
       "      <td>0</td>\n",
       "      <td>0</td>\n",
       "      <td>0</td>\n",
       "      <td>0</td>\n",
       "      <td>0</td>\n",
       "      <td>0</td>\n",
       "      <td>0</td>\n",
       "    </tr>\n",
       "    <tr>\n",
       "      <th>4</th>\n",
       "      <td>7</td>\n",
       "      <td>DBSFB01</td>\n",
       "      <td>KSADLKRHIRI</td>\n",
       "      <td>RSDHLTTHIRT</td>\n",
       "      <td>RSDERKRHTKI</td>\n",
       "      <td>&gt;</td>\n",
       "      <td>NaN</td>\n",
       "      <td>ctcgcgGCCgcggcc</td>\n",
       "      <td>NaN</td>\n",
       "      <td>NaN</td>\n",
       "      <td>...</td>\n",
       "      <td>0</td>\n",
       "      <td>0</td>\n",
       "      <td>0</td>\n",
       "      <td>0</td>\n",
       "      <td>0</td>\n",
       "      <td>0</td>\n",
       "      <td>0</td>\n",
       "      <td>0</td>\n",
       "      <td>0</td>\n",
       "      <td>0</td>\n",
       "    </tr>\n",
       "    <tr>\n",
       "      <th>...</th>\n",
       "      <td>...</td>\n",
       "      <td>...</td>\n",
       "      <td>...</td>\n",
       "      <td>...</td>\n",
       "      <td>...</td>\n",
       "      <td>...</td>\n",
       "      <td>...</td>\n",
       "      <td>...</td>\n",
       "      <td>...</td>\n",
       "      <td>...</td>\n",
       "      <td>...</td>\n",
       "      <td>...</td>\n",
       "      <td>...</td>\n",
       "      <td>...</td>\n",
       "      <td>...</td>\n",
       "      <td>...</td>\n",
       "      <td>...</td>\n",
       "      <td>...</td>\n",
       "      <td>...</td>\n",
       "      <td>...</td>\n",
       "      <td>...</td>\n",
       "    </tr>\n",
       "    <tr>\n",
       "      <th>3094</th>\n",
       "      <td>4078</td>\n",
       "      <td>WYB95</td>\n",
       "      <td>RSDELTRHIRI</td>\n",
       "      <td>RTGNYTTHIRT</td>\n",
       "      <td>RSDERKRHTKI</td>\n",
       "      <td>Kd</td>\n",
       "      <td>20.0</td>\n",
       "      <td>NaN</td>\n",
       "      <td>NaN</td>\n",
       "      <td>NaN</td>\n",
       "      <td>...</td>\n",
       "      <td>0</td>\n",
       "      <td>0</td>\n",
       "      <td>0</td>\n",
       "      <td>0</td>\n",
       "      <td>0</td>\n",
       "      <td>0</td>\n",
       "      <td>0</td>\n",
       "      <td>0</td>\n",
       "      <td>0</td>\n",
       "      <td>0</td>\n",
       "    </tr>\n",
       "    <tr>\n",
       "      <th>3095</th>\n",
       "      <td>4079</td>\n",
       "      <td>WYB95</td>\n",
       "      <td>RSDELTRHIRI</td>\n",
       "      <td>RSDHLTTHIRT</td>\n",
       "      <td>RSDERKRHTKI</td>\n",
       "      <td>Kd</td>\n",
       "      <td>6.5</td>\n",
       "      <td>NaN</td>\n",
       "      <td>NaN</td>\n",
       "      <td>NaN</td>\n",
       "      <td>...</td>\n",
       "      <td>0</td>\n",
       "      <td>0</td>\n",
       "      <td>0</td>\n",
       "      <td>0</td>\n",
       "      <td>0</td>\n",
       "      <td>0</td>\n",
       "      <td>0</td>\n",
       "      <td>0</td>\n",
       "      <td>0</td>\n",
       "      <td>0</td>\n",
       "    </tr>\n",
       "    <tr>\n",
       "      <th>3096</th>\n",
       "      <td>4080</td>\n",
       "      <td>WYB95</td>\n",
       "      <td>RSDELTRHIRI</td>\n",
       "      <td>RSDHLTTHIRT</td>\n",
       "      <td>RSDERKRHTKI</td>\n",
       "      <td>Kd</td>\n",
       "      <td>101.0</td>\n",
       "      <td>NaN</td>\n",
       "      <td>NaN</td>\n",
       "      <td>NaN</td>\n",
       "      <td>...</td>\n",
       "      <td>0</td>\n",
       "      <td>0</td>\n",
       "      <td>0</td>\n",
       "      <td>0</td>\n",
       "      <td>0</td>\n",
       "      <td>0</td>\n",
       "      <td>0</td>\n",
       "      <td>0</td>\n",
       "      <td>0</td>\n",
       "      <td>0</td>\n",
       "    </tr>\n",
       "    <tr>\n",
       "      <th>3097</th>\n",
       "      <td>4081</td>\n",
       "      <td>WYB95</td>\n",
       "      <td>RSDELTRHIRI</td>\n",
       "      <td>RSDHLTTHIRT</td>\n",
       "      <td>SSGQWWRHTKI</td>\n",
       "      <td>Kd</td>\n",
       "      <td>13.1</td>\n",
       "      <td>NaN</td>\n",
       "      <td>NaN</td>\n",
       "      <td>NaN</td>\n",
       "      <td>...</td>\n",
       "      <td>0</td>\n",
       "      <td>0</td>\n",
       "      <td>0</td>\n",
       "      <td>0</td>\n",
       "      <td>0</td>\n",
       "      <td>0</td>\n",
       "      <td>0</td>\n",
       "      <td>0</td>\n",
       "      <td>0</td>\n",
       "      <td>0</td>\n",
       "    </tr>\n",
       "    <tr>\n",
       "      <th>3098</th>\n",
       "      <td>4082</td>\n",
       "      <td>WYB95</td>\n",
       "      <td>RSDELTRHIRI</td>\n",
       "      <td>RSDHLTTHIRT</td>\n",
       "      <td>SSGQWWRHTKI</td>\n",
       "      <td>Kd</td>\n",
       "      <td>500.0</td>\n",
       "      <td>NaN</td>\n",
       "      <td>NaN</td>\n",
       "      <td>NaN</td>\n",
       "      <td>...</td>\n",
       "      <td>0</td>\n",
       "      <td>0</td>\n",
       "      <td>0</td>\n",
       "      <td>0</td>\n",
       "      <td>0</td>\n",
       "      <td>0</td>\n",
       "      <td>0</td>\n",
       "      <td>0</td>\n",
       "      <td>0</td>\n",
       "      <td>0</td>\n",
       "    </tr>\n",
       "  </tbody>\n",
       "</table>\n",
       "<p>3099 rows × 504 columns</p>\n",
       "</div>"
      ],
      "text/plain": [
       "      Unnamed: 0   source           f1           f2           f3  ex     Kd  \\\n",
       "0              0  DBSFB01  KSADLKRHIRI  RSDHLTTHIRT  RSDERKRHTKI  Kd    0.5   \n",
       "1              4  DBSFB01  KSADLKRHIRI  RSDHLTTHIRT  RSDERKRHTKI   >    NaN   \n",
       "2              5  DBSFB01  KSADLKRHIRI  RSDHLTTHIRT  RSDERKRHTKI   >    NaN   \n",
       "3              6  DBSFB01  KSADLKRHIRI  RSDHLTTHIRT  RSDERKRHTKI   >    NaN   \n",
       "4              7  DBSFB01  KSADLKRHIRI  RSDHLTTHIRT  RSDERKRHTKI   >    NaN   \n",
       "...          ...      ...          ...          ...          ...  ..    ...   \n",
       "3094        4078    WYB95  RSDELTRHIRI  RTGNYTTHIRT  RSDERKRHTKI  Kd   20.0   \n",
       "3095        4079    WYB95  RSDELTRHIRI  RSDHLTTHIRT  RSDERKRHTKI  Kd    6.5   \n",
       "3096        4080    WYB95  RSDELTRHIRI  RSDHLTTHIRT  RSDERKRHTKI  Kd  101.0   \n",
       "3097        4081    WYB95  RSDELTRHIRI  RSDHLTTHIRT  SSGQWWRHTKI  Kd   13.1   \n",
       "3098        4082    WYB95  RSDELTRHIRI  RSDHLTTHIRT  SSGQWWRHTKI  Kd  500.0   \n",
       "\n",
       "                 dna2  f4  f5  ...  dna_tctGCCtgggcggaa  dna_tctGCGtgggcggaa  \\\n",
       "0                 NaN NaN NaN  ...                    0                    0   \n",
       "1     ctcgcgGACgcggcc NaN NaN  ...                    0                    0   \n",
       "2     ctcgcgGATgcggcc NaN NaN  ...                    0                    0   \n",
       "3     ctcgcgGCAgcggcc NaN NaN  ...                    0                    0   \n",
       "4     ctcgcgGCCgcggcc NaN NaN  ...                    0                    0   \n",
       "...               ...  ..  ..  ...                  ...                  ...   \n",
       "3094              NaN NaN NaN  ...                    0                    0   \n",
       "3095              NaN NaN NaN  ...                    0                    0   \n",
       "3096              NaN NaN NaN  ...                    0                    0   \n",
       "3097              NaN NaN NaN  ...                    0                    0   \n",
       "3098              NaN NaN NaN  ...                    0                    0   \n",
       "\n",
       "     dna_tctGCTtgggcggaa  dna_tctGGAtgggcggaa dna_tctGGGtgggcggaa  \\\n",
       "0                      0                    0                   0   \n",
       "1                      0                    0                   0   \n",
       "2                      0                    0                   0   \n",
       "3                      0                    0                   0   \n",
       "4                      0                    0                   0   \n",
       "...                  ...                  ...                 ...   \n",
       "3094                   0                    0                   0   \n",
       "3095                   0                    0                   0   \n",
       "3096                   0                    0                   0   \n",
       "3097                   0                    0                   0   \n",
       "3098                   0                    0                   0   \n",
       "\n",
       "     dna_tctGGTtgggcggaa dna_tctGTAtgggcggaa dna_tctGTCtgggcggaa  \\\n",
       "0                      0                   0                   0   \n",
       "1                      0                   0                   0   \n",
       "2                      0                   0                   0   \n",
       "3                      0                   0                   0   \n",
       "4                      0                   0                   0   \n",
       "...                  ...                 ...                 ...   \n",
       "3094                   0                   0                   0   \n",
       "3095                   0                   0                   0   \n",
       "3096                   0                   0                   0   \n",
       "3097                   0                   0                   0   \n",
       "3098                   0                   0                   0   \n",
       "\n",
       "     dna_tctGTGtgggcggaa dna_tctGTTtgggcggaa  \n",
       "0                      0                   0  \n",
       "1                      0                   0  \n",
       "2                      0                   0  \n",
       "3                      0                   0  \n",
       "4                      0                   0  \n",
       "...                  ...                 ...  \n",
       "3094                   0                   0  \n",
       "3095                   0                   0  \n",
       "3096                   0                   0  \n",
       "3097                   0                   0  \n",
       "3098                   0                   0  \n",
       "\n",
       "[3099 rows x 504 columns]"
      ]
     },
     "execution_count": 35,
     "metadata": {},
     "output_type": "execute_result"
    }
   ],
   "source": [
    "dna_onehot"
   ]
  },
  {
   "cell_type": "markdown",
   "id": "2df1e7e3",
   "metadata": {},
   "source": [
    "# Step 3: Proof of concept model\n",
    "\n",
    "Define a "
   ]
  },
  {
   "cell_type": "code",
   "execution_count": 36,
   "id": "1ee9e234",
   "metadata": {},
   "outputs": [],
   "source": [
    "import tensorflow.keras as K"
   ]
  },
  {
   "cell_type": "code",
   "execution_count": 37,
   "id": "22a2e0bb",
   "metadata": {
    "scrolled": true
   },
   "outputs": [
    {
     "data": {
      "text/html": [
       "<div>\n",
       "<style scoped>\n",
       "    .dataframe tbody tr th:only-of-type {\n",
       "        vertical-align: middle;\n",
       "    }\n",
       "\n",
       "    .dataframe tbody tr th {\n",
       "        vertical-align: top;\n",
       "    }\n",
       "\n",
       "    .dataframe thead th {\n",
       "        text-align: right;\n",
       "    }\n",
       "</style>\n",
       "<table border=\"1\" class=\"dataframe\">\n",
       "  <thead>\n",
       "    <tr style=\"text-align: right;\">\n",
       "      <th></th>\n",
       "      <th>Unnamed: 0</th>\n",
       "      <th>source</th>\n",
       "      <th>f1</th>\n",
       "      <th>f2</th>\n",
       "      <th>f3</th>\n",
       "      <th>ex</th>\n",
       "      <th>Kd</th>\n",
       "      <th>dna2</th>\n",
       "      <th>f4</th>\n",
       "      <th>f5</th>\n",
       "      <th>...</th>\n",
       "      <th>dna_tctGCCtgggcggaa</th>\n",
       "      <th>dna_tctGCGtgggcggaa</th>\n",
       "      <th>dna_tctGCTtgggcggaa</th>\n",
       "      <th>dna_tctGGAtgggcggaa</th>\n",
       "      <th>dna_tctGGGtgggcggaa</th>\n",
       "      <th>dna_tctGGTtgggcggaa</th>\n",
       "      <th>dna_tctGTAtgggcggaa</th>\n",
       "      <th>dna_tctGTCtgggcggaa</th>\n",
       "      <th>dna_tctGTGtgggcggaa</th>\n",
       "      <th>dna_tctGTTtgggcggaa</th>\n",
       "    </tr>\n",
       "  </thead>\n",
       "  <tbody>\n",
       "    <tr>\n",
       "      <th>0</th>\n",
       "      <td>0</td>\n",
       "      <td>DBSFB01</td>\n",
       "      <td>KSADLKRHIRI</td>\n",
       "      <td>RSDHLTTHIRT</td>\n",
       "      <td>RSDERKRHTKI</td>\n",
       "      <td>Kd</td>\n",
       "      <td>0.5</td>\n",
       "      <td>NaN</td>\n",
       "      <td>NaN</td>\n",
       "      <td>NaN</td>\n",
       "      <td>...</td>\n",
       "      <td>0</td>\n",
       "      <td>0</td>\n",
       "      <td>0</td>\n",
       "      <td>0</td>\n",
       "      <td>0</td>\n",
       "      <td>0</td>\n",
       "      <td>0</td>\n",
       "      <td>0</td>\n",
       "      <td>0</td>\n",
       "      <td>0</td>\n",
       "    </tr>\n",
       "    <tr>\n",
       "      <th>1</th>\n",
       "      <td>4</td>\n",
       "      <td>DBSFB01</td>\n",
       "      <td>KSADLKRHIRI</td>\n",
       "      <td>RSDHLTTHIRT</td>\n",
       "      <td>RSDERKRHTKI</td>\n",
       "      <td>&gt;</td>\n",
       "      <td>NaN</td>\n",
       "      <td>ctcgcgGACgcggcc</td>\n",
       "      <td>NaN</td>\n",
       "      <td>NaN</td>\n",
       "      <td>...</td>\n",
       "      <td>0</td>\n",
       "      <td>0</td>\n",
       "      <td>0</td>\n",
       "      <td>0</td>\n",
       "      <td>0</td>\n",
       "      <td>0</td>\n",
       "      <td>0</td>\n",
       "      <td>0</td>\n",
       "      <td>0</td>\n",
       "      <td>0</td>\n",
       "    </tr>\n",
       "    <tr>\n",
       "      <th>2</th>\n",
       "      <td>5</td>\n",
       "      <td>DBSFB01</td>\n",
       "      <td>KSADLKRHIRI</td>\n",
       "      <td>RSDHLTTHIRT</td>\n",
       "      <td>RSDERKRHTKI</td>\n",
       "      <td>&gt;</td>\n",
       "      <td>NaN</td>\n",
       "      <td>ctcgcgGATgcggcc</td>\n",
       "      <td>NaN</td>\n",
       "      <td>NaN</td>\n",
       "      <td>...</td>\n",
       "      <td>0</td>\n",
       "      <td>0</td>\n",
       "      <td>0</td>\n",
       "      <td>0</td>\n",
       "      <td>0</td>\n",
       "      <td>0</td>\n",
       "      <td>0</td>\n",
       "      <td>0</td>\n",
       "      <td>0</td>\n",
       "      <td>0</td>\n",
       "    </tr>\n",
       "    <tr>\n",
       "      <th>3</th>\n",
       "      <td>6</td>\n",
       "      <td>DBSFB01</td>\n",
       "      <td>KSADLKRHIRI</td>\n",
       "      <td>RSDHLTTHIRT</td>\n",
       "      <td>RSDERKRHTKI</td>\n",
       "      <td>&gt;</td>\n",
       "      <td>NaN</td>\n",
       "      <td>ctcgcgGCAgcggcc</td>\n",
       "      <td>NaN</td>\n",
       "      <td>NaN</td>\n",
       "      <td>...</td>\n",
       "      <td>0</td>\n",
       "      <td>0</td>\n",
       "      <td>0</td>\n",
       "      <td>0</td>\n",
       "      <td>0</td>\n",
       "      <td>0</td>\n",
       "      <td>0</td>\n",
       "      <td>0</td>\n",
       "      <td>0</td>\n",
       "      <td>0</td>\n",
       "    </tr>\n",
       "    <tr>\n",
       "      <th>4</th>\n",
       "      <td>7</td>\n",
       "      <td>DBSFB01</td>\n",
       "      <td>KSADLKRHIRI</td>\n",
       "      <td>RSDHLTTHIRT</td>\n",
       "      <td>RSDERKRHTKI</td>\n",
       "      <td>&gt;</td>\n",
       "      <td>NaN</td>\n",
       "      <td>ctcgcgGCCgcggcc</td>\n",
       "      <td>NaN</td>\n",
       "      <td>NaN</td>\n",
       "      <td>...</td>\n",
       "      <td>0</td>\n",
       "      <td>0</td>\n",
       "      <td>0</td>\n",
       "      <td>0</td>\n",
       "      <td>0</td>\n",
       "      <td>0</td>\n",
       "      <td>0</td>\n",
       "      <td>0</td>\n",
       "      <td>0</td>\n",
       "      <td>0</td>\n",
       "    </tr>\n",
       "    <tr>\n",
       "      <th>...</th>\n",
       "      <td>...</td>\n",
       "      <td>...</td>\n",
       "      <td>...</td>\n",
       "      <td>...</td>\n",
       "      <td>...</td>\n",
       "      <td>...</td>\n",
       "      <td>...</td>\n",
       "      <td>...</td>\n",
       "      <td>...</td>\n",
       "      <td>...</td>\n",
       "      <td>...</td>\n",
       "      <td>...</td>\n",
       "      <td>...</td>\n",
       "      <td>...</td>\n",
       "      <td>...</td>\n",
       "      <td>...</td>\n",
       "      <td>...</td>\n",
       "      <td>...</td>\n",
       "      <td>...</td>\n",
       "      <td>...</td>\n",
       "      <td>...</td>\n",
       "    </tr>\n",
       "    <tr>\n",
       "      <th>3094</th>\n",
       "      <td>4078</td>\n",
       "      <td>WYB95</td>\n",
       "      <td>RSDELTRHIRI</td>\n",
       "      <td>RTGNYTTHIRT</td>\n",
       "      <td>RSDERKRHTKI</td>\n",
       "      <td>Kd</td>\n",
       "      <td>20.0</td>\n",
       "      <td>NaN</td>\n",
       "      <td>NaN</td>\n",
       "      <td>NaN</td>\n",
       "      <td>...</td>\n",
       "      <td>0</td>\n",
       "      <td>0</td>\n",
       "      <td>0</td>\n",
       "      <td>0</td>\n",
       "      <td>0</td>\n",
       "      <td>0</td>\n",
       "      <td>0</td>\n",
       "      <td>0</td>\n",
       "      <td>0</td>\n",
       "      <td>0</td>\n",
       "    </tr>\n",
       "    <tr>\n",
       "      <th>3095</th>\n",
       "      <td>4079</td>\n",
       "      <td>WYB95</td>\n",
       "      <td>RSDELTRHIRI</td>\n",
       "      <td>RSDHLTTHIRT</td>\n",
       "      <td>RSDERKRHTKI</td>\n",
       "      <td>Kd</td>\n",
       "      <td>6.5</td>\n",
       "      <td>NaN</td>\n",
       "      <td>NaN</td>\n",
       "      <td>NaN</td>\n",
       "      <td>...</td>\n",
       "      <td>0</td>\n",
       "      <td>0</td>\n",
       "      <td>0</td>\n",
       "      <td>0</td>\n",
       "      <td>0</td>\n",
       "      <td>0</td>\n",
       "      <td>0</td>\n",
       "      <td>0</td>\n",
       "      <td>0</td>\n",
       "      <td>0</td>\n",
       "    </tr>\n",
       "    <tr>\n",
       "      <th>3096</th>\n",
       "      <td>4080</td>\n",
       "      <td>WYB95</td>\n",
       "      <td>RSDELTRHIRI</td>\n",
       "      <td>RSDHLTTHIRT</td>\n",
       "      <td>RSDERKRHTKI</td>\n",
       "      <td>Kd</td>\n",
       "      <td>101.0</td>\n",
       "      <td>NaN</td>\n",
       "      <td>NaN</td>\n",
       "      <td>NaN</td>\n",
       "      <td>...</td>\n",
       "      <td>0</td>\n",
       "      <td>0</td>\n",
       "      <td>0</td>\n",
       "      <td>0</td>\n",
       "      <td>0</td>\n",
       "      <td>0</td>\n",
       "      <td>0</td>\n",
       "      <td>0</td>\n",
       "      <td>0</td>\n",
       "      <td>0</td>\n",
       "    </tr>\n",
       "    <tr>\n",
       "      <th>3097</th>\n",
       "      <td>4081</td>\n",
       "      <td>WYB95</td>\n",
       "      <td>RSDELTRHIRI</td>\n",
       "      <td>RSDHLTTHIRT</td>\n",
       "      <td>SSGQWWRHTKI</td>\n",
       "      <td>Kd</td>\n",
       "      <td>13.1</td>\n",
       "      <td>NaN</td>\n",
       "      <td>NaN</td>\n",
       "      <td>NaN</td>\n",
       "      <td>...</td>\n",
       "      <td>0</td>\n",
       "      <td>0</td>\n",
       "      <td>0</td>\n",
       "      <td>0</td>\n",
       "      <td>0</td>\n",
       "      <td>0</td>\n",
       "      <td>0</td>\n",
       "      <td>0</td>\n",
       "      <td>0</td>\n",
       "      <td>0</td>\n",
       "    </tr>\n",
       "    <tr>\n",
       "      <th>3098</th>\n",
       "      <td>4082</td>\n",
       "      <td>WYB95</td>\n",
       "      <td>RSDELTRHIRI</td>\n",
       "      <td>RSDHLTTHIRT</td>\n",
       "      <td>SSGQWWRHTKI</td>\n",
       "      <td>Kd</td>\n",
       "      <td>500.0</td>\n",
       "      <td>NaN</td>\n",
       "      <td>NaN</td>\n",
       "      <td>NaN</td>\n",
       "      <td>...</td>\n",
       "      <td>0</td>\n",
       "      <td>0</td>\n",
       "      <td>0</td>\n",
       "      <td>0</td>\n",
       "      <td>0</td>\n",
       "      <td>0</td>\n",
       "      <td>0</td>\n",
       "      <td>0</td>\n",
       "      <td>0</td>\n",
       "      <td>0</td>\n",
       "    </tr>\n",
       "  </tbody>\n",
       "</table>\n",
       "<p>3099 rows × 504 columns</p>\n",
       "</div>"
      ],
      "text/plain": [
       "      Unnamed: 0   source           f1           f2           f3  ex     Kd  \\\n",
       "0              0  DBSFB01  KSADLKRHIRI  RSDHLTTHIRT  RSDERKRHTKI  Kd    0.5   \n",
       "1              4  DBSFB01  KSADLKRHIRI  RSDHLTTHIRT  RSDERKRHTKI   >    NaN   \n",
       "2              5  DBSFB01  KSADLKRHIRI  RSDHLTTHIRT  RSDERKRHTKI   >    NaN   \n",
       "3              6  DBSFB01  KSADLKRHIRI  RSDHLTTHIRT  RSDERKRHTKI   >    NaN   \n",
       "4              7  DBSFB01  KSADLKRHIRI  RSDHLTTHIRT  RSDERKRHTKI   >    NaN   \n",
       "...          ...      ...          ...          ...          ...  ..    ...   \n",
       "3094        4078    WYB95  RSDELTRHIRI  RTGNYTTHIRT  RSDERKRHTKI  Kd   20.0   \n",
       "3095        4079    WYB95  RSDELTRHIRI  RSDHLTTHIRT  RSDERKRHTKI  Kd    6.5   \n",
       "3096        4080    WYB95  RSDELTRHIRI  RSDHLTTHIRT  RSDERKRHTKI  Kd  101.0   \n",
       "3097        4081    WYB95  RSDELTRHIRI  RSDHLTTHIRT  SSGQWWRHTKI  Kd   13.1   \n",
       "3098        4082    WYB95  RSDELTRHIRI  RSDHLTTHIRT  SSGQWWRHTKI  Kd  500.0   \n",
       "\n",
       "                 dna2  f4  f5  ...  dna_tctGCCtgggcggaa  dna_tctGCGtgggcggaa  \\\n",
       "0                 NaN NaN NaN  ...                    0                    0   \n",
       "1     ctcgcgGACgcggcc NaN NaN  ...                    0                    0   \n",
       "2     ctcgcgGATgcggcc NaN NaN  ...                    0                    0   \n",
       "3     ctcgcgGCAgcggcc NaN NaN  ...                    0                    0   \n",
       "4     ctcgcgGCCgcggcc NaN NaN  ...                    0                    0   \n",
       "...               ...  ..  ..  ...                  ...                  ...   \n",
       "3094              NaN NaN NaN  ...                    0                    0   \n",
       "3095              NaN NaN NaN  ...                    0                    0   \n",
       "3096              NaN NaN NaN  ...                    0                    0   \n",
       "3097              NaN NaN NaN  ...                    0                    0   \n",
       "3098              NaN NaN NaN  ...                    0                    0   \n",
       "\n",
       "     dna_tctGCTtgggcggaa  dna_tctGGAtgggcggaa dna_tctGGGtgggcggaa  \\\n",
       "0                      0                    0                   0   \n",
       "1                      0                    0                   0   \n",
       "2                      0                    0                   0   \n",
       "3                      0                    0                   0   \n",
       "4                      0                    0                   0   \n",
       "...                  ...                  ...                 ...   \n",
       "3094                   0                    0                   0   \n",
       "3095                   0                    0                   0   \n",
       "3096                   0                    0                   0   \n",
       "3097                   0                    0                   0   \n",
       "3098                   0                    0                   0   \n",
       "\n",
       "     dna_tctGGTtgggcggaa dna_tctGTAtgggcggaa dna_tctGTCtgggcggaa  \\\n",
       "0                      0                   0                   0   \n",
       "1                      0                   0                   0   \n",
       "2                      0                   0                   0   \n",
       "3                      0                   0                   0   \n",
       "4                      0                   0                   0   \n",
       "...                  ...                 ...                 ...   \n",
       "3094                   0                   0                   0   \n",
       "3095                   0                   0                   0   \n",
       "3096                   0                   0                   0   \n",
       "3097                   0                   0                   0   \n",
       "3098                   0                   0                   0   \n",
       "\n",
       "     dna_tctGTGtgggcggaa dna_tctGTTtgggcggaa  \n",
       "0                      0                   0  \n",
       "1                      0                   0  \n",
       "2                      0                   0  \n",
       "3                      0                   0  \n",
       "4                      0                   0  \n",
       "...                  ...                 ...  \n",
       "3094                   0                   0  \n",
       "3095                   0                   0  \n",
       "3096                   0                   0  \n",
       "3097                   0                   0  \n",
       "3098                   0                   0  \n",
       "\n",
       "[3099 rows x 504 columns]"
      ]
     },
     "execution_count": 37,
     "metadata": {},
     "output_type": "execute_result"
    }
   ],
   "source": [
    "dna_onehot"
   ]
  },
  {
   "cell_type": "code",
   "execution_count": 38,
   "id": "04ced46e",
   "metadata": {},
   "outputs": [],
   "source": [
    "dna_inputs = dna_onehot.filter(like='dna_').values\n",
    "f1_outputs = fingers_onehot.filter(like='f1_').values\n",
    "f2_outputs = fingers_onehot.filter(like='f2_').values\n",
    "f3_outputs = fingers_onehot.filter(like='f3_').values"
   ]
  },
  {
   "cell_type": "code",
   "execution_count": 39,
   "id": "969377a9",
   "metadata": {},
   "outputs": [
    {
     "data": {
      "text/plain": [
       "(3099, 483)"
      ]
     },
     "execution_count": 39,
     "metadata": {},
     "output_type": "execute_result"
    }
   ],
   "source": [
    "dna_inputs.shape"
   ]
  },
  {
   "cell_type": "code",
   "execution_count": 40,
   "id": "de2eb90c",
   "metadata": {},
   "outputs": [
    {
     "data": {
      "text/plain": [
       "(3099, 180)"
      ]
     },
     "execution_count": 40,
     "metadata": {},
     "output_type": "execute_result"
    }
   ],
   "source": [
    "f1_outputs.shape"
   ]
  },
  {
   "cell_type": "code",
   "execution_count": 41,
   "id": "a15ff20b",
   "metadata": {},
   "outputs": [
    {
     "data": {
      "text/plain": [
       "483"
      ]
     },
     "execution_count": 41,
     "metadata": {},
     "output_type": "execute_result"
    }
   ],
   "source": [
    "dna_inputs.shape[1]"
   ]
  },
  {
   "cell_type": "code",
   "execution_count": 42,
   "id": "7690e634",
   "metadata": {},
   "outputs": [
    {
     "data": {
      "text/plain": [
       "(3099, 483)"
      ]
     },
     "execution_count": 42,
     "metadata": {},
     "output_type": "execute_result"
    }
   ],
   "source": [
    "dna_inputs.shape"
   ]
  },
  {
   "cell_type": "code",
   "execution_count": 44,
   "id": "5d516529",
   "metadata": {},
   "outputs": [],
   "source": [
    "from sklearn.model_selection import train_test_split\n",
    "\n",
    "\n",
    "X_train, X_test, _, _ = train_test_split(\n",
    "    dna_inputs, dna_inputs, test_size=0.33, random_state=42)\n"
   ]
  },
  {
   "cell_type": "code",
   "execution_count": 221,
   "id": "01848c61",
   "metadata": {},
   "outputs": [],
   "source": [
    "latent_dim = 128\n",
    "\n",
    "class Autoencoder(K.models.Model):\n",
    "  def __init__(self, latent_dim):\n",
    "    super(Autoencoder, self).__init__()\n",
    "    self.latent_dim = latent_dim   \n",
    "    self.encoder = K.Sequential([\n",
    "        K.layers.Dense(400, activation='relu'),\n",
    "        K.layers.Dropout(0.3),\n",
    "        K.layers.Dense(256, activation='relu'),\n",
    "        K.layers.Dense(self.latent_dim, activation='relu'),\n",
    "    ], name=\"encoder\")\n",
    "    self.decoder = K.Sequential([\n",
    "        K.layers.Dense(256, activation='relu'),\n",
    "        K.layers.Dropout(0.3),\n",
    "        K.layers.Dense(400, activation='relu'),\n",
    "        K.layers.Dropout(0.3),\n",
    "        K.layers.Dense(dna_inputs.shape[1], activation=\"softmax\"),\n",
    "    ], name=\"decoder\")\n",
    "\n",
    "  def call(self, x):\n",
    "    encoded = self.encoder(x)\n",
    "    decoded = self.decoder(encoded)\n",
    "    return decoded\n",
    "\n",
    "autoencoder = Autoencoder(latent_dim)"
   ]
  },
  {
   "cell_type": "code",
   "execution_count": 222,
   "id": "0a2104f6",
   "metadata": {},
   "outputs": [],
   "source": [
    "opt = K.optimizers.Adam(lr=7e-5)"
   ]
  },
  {
   "cell_type": "code",
   "execution_count": 223,
   "id": "cbf89e28",
   "metadata": {},
   "outputs": [],
   "source": [
    "autoencoder.compile(loss='categorical_crossentropy', optimizer=opt)"
   ]
  },
  {
   "cell_type": "code",
   "execution_count": 224,
   "id": "f9f5cdc6",
   "metadata": {
    "scrolled": true
   },
   "outputs": [
    {
     "name": "stdout",
     "output_type": "stream",
     "text": [
      "Epoch 1/100\n",
      "65/65 [==============================] - 2s 24ms/step - loss: 6.1769 - val_loss: 6.1629\n",
      "Epoch 2/100\n",
      "65/65 [==============================] - 2s 27ms/step - loss: 6.1479 - val_loss: 6.0729\n",
      "Epoch 3/100\n",
      "65/65 [==============================] - 1s 22ms/step - loss: 5.9384 - val_loss: 5.4716\n",
      "Epoch 4/100\n",
      "65/65 [==============================] - 2s 36ms/step - loss: 5.3655 - val_loss: 5.3455\n",
      "Epoch 5/100\n",
      "65/65 [==============================] - 3s 43ms/step - loss: 5.1708 - val_loss: 5.2521\n",
      "Epoch 6/100\n",
      "65/65 [==============================] - 3s 41ms/step - loss: 5.0690 - val_loss: 5.1304\n",
      "Epoch 7/100\n",
      "65/65 [==============================] - 2s 37ms/step - loss: 4.9996 - val_loss: 4.9732\n",
      "Epoch 8/100\n",
      "65/65 [==============================] - 3s 46ms/step - loss: 4.7823 - val_loss: 4.7939\n",
      "Epoch 9/100\n",
      "65/65 [==============================] - 4s 65ms/step - loss: 4.6518 - val_loss: 4.6157\n",
      "Epoch 10/100\n",
      "65/65 [==============================] - 2s 36ms/step - loss: 4.5064 - val_loss: 4.4538\n",
      "Epoch 11/100\n",
      "65/65 [==============================] - 3s 42ms/step - loss: 4.2652 - val_loss: 4.3290\n",
      "Epoch 12/100\n",
      "65/65 [==============================] - 2s 31ms/step - loss: 4.1445 - val_loss: 4.1967\n",
      "Epoch 13/100\n",
      "65/65 [==============================] - 2s 29ms/step - loss: 4.0773 - val_loss: 4.0688\n",
      "Epoch 14/100\n",
      "65/65 [==============================] - 2s 35ms/step - loss: 3.9070 - val_loss: 3.9420\n",
      "Epoch 15/100\n",
      "65/65 [==============================] - 2s 26ms/step - loss: 3.8123 - val_loss: 3.8239\n",
      "Epoch 16/100\n",
      "65/65 [==============================] - 2s 24ms/step - loss: 3.6509 - val_loss: 3.6995\n",
      "Epoch 17/100\n",
      "65/65 [==============================] - 3s 51ms/step - loss: 3.3896 - val_loss: 3.5732\n",
      "Epoch 18/100\n",
      "65/65 [==============================] - 3s 44ms/step - loss: 3.3072 - val_loss: 3.4496\n",
      "Epoch 19/100\n",
      "65/65 [==============================] - 2s 26ms/step - loss: 3.1926 - val_loss: 3.3416\n",
      "Epoch 20/100\n",
      "65/65 [==============================] - 2s 38ms/step - loss: 3.0747 - val_loss: 3.2390\n",
      "Epoch 21/100\n",
      "65/65 [==============================] - 3s 42ms/step - loss: 2.9900 - val_loss: 3.1459\n",
      "Epoch 22/100\n",
      "65/65 [==============================] - 2s 32ms/step - loss: 2.7852 - val_loss: 3.0797\n",
      "Epoch 23/100\n",
      "65/65 [==============================] - 2s 33ms/step - loss: 2.6460 - val_loss: 2.9833\n",
      "Epoch 24/100\n",
      "65/65 [==============================] - 4s 56ms/step - loss: 2.5494 - val_loss: 2.9209\n",
      "Epoch 25/100\n",
      "65/65 [==============================] - 2s 36ms/step - loss: 2.4782 - val_loss: 2.8323\n",
      "Epoch 26/100\n",
      "65/65 [==============================] - 3s 52ms/step - loss: 2.4154 - val_loss: 2.7634\n",
      "Epoch 27/100\n",
      "65/65 [==============================] - 3s 45ms/step - loss: 2.2138 - val_loss: 2.7175\n",
      "Epoch 28/100\n",
      "65/65 [==============================] - 4s 68ms/step - loss: 2.1136 - val_loss: 2.6997\n",
      "Epoch 29/100\n",
      "65/65 [==============================] - 3s 48ms/step - loss: 2.0637 - val_loss: 2.6311\n",
      "Epoch 30/100\n",
      "65/65 [==============================] - 3s 42ms/step - loss: 1.9893 - val_loss: 2.6095\n",
      "Epoch 31/100\n",
      "65/65 [==============================] - 3s 47ms/step - loss: 1.9442 - val_loss: 2.5726\n",
      "Epoch 32/100\n",
      "65/65 [==============================] - 3s 43ms/step - loss: 1.8333 - val_loss: 2.5203\n",
      "Epoch 33/100\n",
      "65/65 [==============================] - 3s 42ms/step - loss: 1.7857 - val_loss: 2.5159\n",
      "Epoch 34/100\n",
      "65/65 [==============================] - 3s 44ms/step - loss: 1.7116 - val_loss: 2.4554\n",
      "Epoch 35/100\n",
      "65/65 [==============================] - 3s 49ms/step - loss: 1.7806 - val_loss: 2.4272\n",
      "Epoch 36/100\n",
      "65/65 [==============================] - 4s 66ms/step - loss: 1.6319 - val_loss: 2.4267\n",
      "Epoch 37/100\n",
      "65/65 [==============================] - 3s 51ms/step - loss: 1.5658 - val_loss: 2.3809\n",
      "Epoch 38/100\n",
      "65/65 [==============================] - 4s 68ms/step - loss: 1.5232 - val_loss: 2.3961\n",
      "Epoch 39/100\n",
      "65/65 [==============================] - 3s 43ms/step - loss: 1.4625 - val_loss: 2.3963\n",
      "Epoch 40/100\n",
      "65/65 [==============================] - 3s 45ms/step - loss: 1.4323 - val_loss: 2.3838\n",
      "Epoch 41/100\n",
      "65/65 [==============================] - 3s 48ms/step - loss: 1.3868 - val_loss: 2.3608\n",
      "Epoch 42/100\n",
      "65/65 [==============================] - 3s 46ms/step - loss: 1.3264 - val_loss: 2.3495\n",
      "Epoch 43/100\n",
      "65/65 [==============================] - 4s 57ms/step - loss: 1.2785 - val_loss: 2.3464\n",
      "Epoch 44/100\n",
      "65/65 [==============================] - 4s 56ms/step - loss: 1.2683 - val_loss: 2.3121\n",
      "Epoch 45/100\n",
      "65/65 [==============================] - 3s 52ms/step - loss: 1.1853 - val_loss: 2.3303\n",
      "Epoch 46/100\n",
      "65/65 [==============================] - 3s 42ms/step - loss: 1.2178 - val_loss: 2.3115\n",
      "Epoch 47/100\n",
      "65/65 [==============================] - 3s 44ms/step - loss: 1.1716 - val_loss: 2.2735\n",
      "Epoch 48/100\n",
      "65/65 [==============================] - 4s 55ms/step - loss: 1.0800 - val_loss: 2.3229\n",
      "Epoch 49/100\n",
      "65/65 [==============================] - 3s 40ms/step - loss: 1.0324 - val_loss: 2.3642\n",
      "Epoch 50/100\n",
      "65/65 [==============================] - 3s 41ms/step - loss: 1.1048 - val_loss: 2.3252\n",
      "Epoch 51/100\n",
      "65/65 [==============================] - 3s 53ms/step - loss: 0.9870 - val_loss: 2.3379\n",
      "Epoch 52/100\n",
      "65/65 [==============================] - 4s 63ms/step - loss: 0.9789 - val_loss: 2.3347\n",
      "Epoch 53/100\n",
      "65/65 [==============================] - 3s 53ms/step - loss: 0.9579 - val_loss: 2.3247\n",
      "Epoch 54/100\n",
      "65/65 [==============================] - 4s 55ms/step - loss: 0.8964 - val_loss: 2.3320\n",
      "Epoch 55/100\n",
      "65/65 [==============================] - 5s 74ms/step - loss: 0.8426 - val_loss: 2.3107\n",
      "Epoch 56/100\n",
      "65/65 [==============================] - 5s 72ms/step - loss: 0.8352 - val_loss: 2.3320\n",
      "Epoch 57/100\n",
      "65/65 [==============================] - 3s 45ms/step - loss: 0.8864 - val_loss: 2.3038\n",
      "Epoch 58/100\n",
      "65/65 [==============================] - 3s 46ms/step - loss: 0.8428 - val_loss: 2.3454\n",
      "Epoch 59/100\n",
      "65/65 [==============================] - 4s 66ms/step - loss: 0.7832 - val_loss: 2.3288\n",
      "Epoch 60/100\n",
      "65/65 [==============================] - 3s 53ms/step - loss: 0.8369 - val_loss: 2.3803\n",
      "Epoch 61/100\n",
      "65/65 [==============================] - 3s 53ms/step - loss: 0.7810 - val_loss: 2.3051\n",
      "Epoch 62/100\n",
      "65/65 [==============================] - 4s 57ms/step - loss: 0.7646 - val_loss: 2.3306\n",
      "Epoch 63/100\n",
      "65/65 [==============================] - 4s 57ms/step - loss: 0.7359 - val_loss: 2.3620\n",
      "Epoch 64/100\n",
      "65/65 [==============================] - 4s 60ms/step - loss: 0.7101 - val_loss: 2.3582\n",
      "Epoch 65/100\n",
      "65/65 [==============================] - 3s 51ms/step - loss: 0.6721 - val_loss: 2.4156\n",
      "Epoch 66/100\n",
      "65/65 [==============================] - 3s 48ms/step - loss: 0.6267 - val_loss: 2.3898\n",
      "Epoch 67/100\n",
      "65/65 [==============================] - 4s 55ms/step - loss: 0.6455 - val_loss: 2.3933\n",
      "Epoch 68/100\n",
      "65/65 [==============================] - 4s 55ms/step - loss: 0.6472 - val_loss: 2.3786\n",
      "Epoch 69/100\n",
      "65/65 [==============================] - 3s 51ms/step - loss: 0.6468 - val_loss: 2.4045\n",
      "Epoch 70/100\n",
      "65/65 [==============================] - 3s 48ms/step - loss: 0.6049 - val_loss: 2.4185\n",
      "Epoch 71/100\n",
      "65/65 [==============================] - 3s 53ms/step - loss: 0.5680 - val_loss: 2.3963\n",
      "Epoch 72/100\n",
      "65/65 [==============================] - 3s 52ms/step - loss: 0.6169 - val_loss: 2.4171\n",
      "Epoch 73/100\n",
      "65/65 [==============================] - 5s 75ms/step - loss: 0.5822 - val_loss: 2.4586\n",
      "Epoch 74/100\n",
      "65/65 [==============================] - 3s 49ms/step - loss: 0.5642 - val_loss: 2.4198\n",
      "Epoch 75/100\n",
      "65/65 [==============================] - 3s 50ms/step - loss: 0.4683 - val_loss: 2.4522\n",
      "Epoch 76/100\n",
      "65/65 [==============================] - 4s 68ms/step - loss: 0.5320 - val_loss: 2.4670\n",
      "Epoch 77/100\n",
      "65/65 [==============================] - 3s 41ms/step - loss: 0.5324 - val_loss: 2.4652\n",
      "Epoch 78/100\n",
      "65/65 [==============================] - 3s 53ms/step - loss: 0.4984 - val_loss: 2.4738\n",
      "Epoch 79/100\n",
      "65/65 [==============================] - 3s 51ms/step - loss: 0.5009 - val_loss: 2.5042\n",
      "Epoch 80/100\n",
      "65/65 [==============================] - 3s 53ms/step - loss: 0.4982 - val_loss: 2.4878\n",
      "Epoch 81/100\n",
      "65/65 [==============================] - 4s 60ms/step - loss: 0.4817 - val_loss: 2.4935\n",
      "Epoch 82/100\n"
     ]
    },
    {
     "name": "stdout",
     "output_type": "stream",
     "text": [
      "65/65 [==============================] - 3s 47ms/step - loss: 0.4593 - val_loss: 2.5160\n",
      "Epoch 83/100\n",
      "65/65 [==============================] - 4s 55ms/step - loss: 0.4306 - val_loss: 2.5183\n",
      "Epoch 84/100\n",
      "65/65 [==============================] - 3s 40ms/step - loss: 0.4387 - val_loss: 2.5370\n",
      "Epoch 85/100\n",
      "65/65 [==============================] - 4s 54ms/step - loss: 0.4229 - val_loss: 2.5014\n",
      "Epoch 86/100\n",
      "65/65 [==============================] - 3s 44ms/step - loss: 0.4314 - val_loss: 2.5798\n",
      "Epoch 87/100\n",
      "65/65 [==============================] - 4s 67ms/step - loss: 0.3981 - val_loss: 2.5411\n",
      "Epoch 88/100\n",
      "65/65 [==============================] - 3s 38ms/step - loss: 0.3544 - val_loss: 2.5640\n",
      "Epoch 89/100\n",
      "65/65 [==============================] - 3s 53ms/step - loss: 0.3709 - val_loss: 2.5490\n",
      "Epoch 90/100\n",
      "65/65 [==============================] - 2s 35ms/step - loss: 0.3803 - val_loss: 2.5372\n",
      "Epoch 91/100\n",
      "65/65 [==============================] - 2s 32ms/step - loss: 0.4087 - val_loss: 2.5874\n",
      "Epoch 92/100\n",
      "65/65 [==============================] - 4s 62ms/step - loss: 0.3853 - val_loss: 2.5373\n",
      "Epoch 93/100\n",
      "65/65 [==============================] - 3s 52ms/step - loss: 0.3673 - val_loss: 2.5261\n",
      "Epoch 94/100\n",
      "65/65 [==============================] - 3s 39ms/step - loss: 0.3399 - val_loss: 2.6093\n",
      "Epoch 95/100\n",
      "65/65 [==============================] - 4s 54ms/step - loss: 0.3335 - val_loss: 2.6202\n",
      "Epoch 96/100\n",
      "65/65 [==============================] - 2s 28ms/step - loss: 0.3224 - val_loss: 2.6415\n",
      "Epoch 97/100\n",
      "65/65 [==============================] - 2s 37ms/step - loss: 0.3482 - val_loss: 2.6504\n",
      "Epoch 98/100\n",
      "65/65 [==============================] - 2s 29ms/step - loss: 0.3224 - val_loss: 2.6492\n",
      "Epoch 99/100\n",
      "65/65 [==============================] - 4s 57ms/step - loss: 0.2980 - val_loss: 2.6256\n",
      "Epoch 100/100\n",
      "65/65 [==============================] - 3s 39ms/step - loss: 0.3076 - val_loss: 2.6419\n"
     ]
    },
    {
     "data": {
      "text/plain": [
       "<tensorflow.python.keras.callbacks.History at 0x7f23484bf400>"
      ]
     },
     "execution_count": 224,
     "metadata": {},
     "output_type": "execute_result"
    }
   ],
   "source": [
    "data = np.expand_dims(dna_inputs.astype('float32'),1)\n",
    "\n",
    "autoencoder.fit(X_train, X_train, epochs=100, validation_data=(X_test, X_test))"
   ]
  },
  {
   "cell_type": "code",
   "execution_count": 225,
   "id": "9beff6a2",
   "metadata": {},
   "outputs": [],
   "source": [
    "n=4"
   ]
  },
  {
   "cell_type": "code",
   "execution_count": 226,
   "id": "7c6b64e3",
   "metadata": {},
   "outputs": [
    {
     "data": {
      "text/plain": [
       "300"
      ]
     },
     "execution_count": 226,
     "metadata": {},
     "output_type": "execute_result"
    }
   ],
   "source": [
    "autoencoder.predict(X_test[[n],:]).argmax()"
   ]
  },
  {
   "cell_type": "code",
   "execution_count": 227,
   "id": "35497a67",
   "metadata": {},
   "outputs": [
    {
     "data": {
      "text/plain": [
       "300"
      ]
     },
     "execution_count": 227,
     "metadata": {},
     "output_type": "execute_result"
    }
   ],
   "source": [
    "np.argmax(X_test[n,:])"
   ]
  },
  {
   "cell_type": "code",
   "execution_count": 228,
   "id": "bcc827db",
   "metadata": {},
   "outputs": [],
   "source": [
    "d = (autoencoder.predict(X_test)).argmax(axis=1)"
   ]
  },
  {
   "cell_type": "code",
   "execution_count": 229,
   "id": "ab2e140c",
   "metadata": {},
   "outputs": [],
   "source": [
    "e = X_test.argmax(axis=1)"
   ]
  },
  {
   "cell_type": "code",
   "execution_count": 230,
   "id": "5818043e",
   "metadata": {},
   "outputs": [
    {
     "data": {
      "text/plain": [
       "array([118, 451, 339, 232, 115, 324, 231, 121, 451, 381, 307, 348, 405,\n",
       "       321,  53, 341, 310, 349, 247, 308])"
      ]
     },
     "execution_count": 230,
     "metadata": {},
     "output_type": "execute_result"
    }
   ],
   "source": [
    "d[40:60]"
   ]
  },
  {
   "cell_type": "code",
   "execution_count": 231,
   "id": "15628e81",
   "metadata": {},
   "outputs": [
    {
     "data": {
      "text/plain": [
       "array([118, 451, 339, 232, 138, 324, 231, 121, 451, 381, 307, 348, 405,\n",
       "       119,  53, 341, 310, 349, 247, 308])"
      ]
     },
     "execution_count": 231,
     "metadata": {},
     "output_type": "execute_result"
    }
   ],
   "source": [
    "e[40:60]"
   ]
  },
  {
   "cell_type": "code",
   "execution_count": 232,
   "id": "c8aa25b2",
   "metadata": {},
   "outputs": [],
   "source": [
    "a=0\n",
    "for idx in range(len(d)):\n",
    "    if d[idx] == e[idx]:\n",
    "        a += 1 / len(d)\n",
    "        "
   ]
  },
  {
   "cell_type": "code",
   "execution_count": 233,
   "id": "6249be3a",
   "metadata": {},
   "outputs": [
    {
     "data": {
      "text/plain": [
       "0.9237536656891489"
      ]
     },
     "execution_count": 233,
     "metadata": {},
     "output_type": "execute_result"
    }
   ],
   "source": [
    "a"
   ]
  },
  {
   "cell_type": "code",
   "execution_count": 235,
   "id": "83581639",
   "metadata": {},
   "outputs": [
    {
     "name": "stdout",
     "output_type": "stream",
     "text": [
      "Model: \"autoencoder_6\"\n",
      "_________________________________________________________________\n",
      "Layer (type)                 Output Shape              Param #   \n",
      "=================================================================\n",
      "encoder (Sequential)         (None, 128)               329152    \n",
      "_________________________________________________________________\n",
      "decoder (Sequential)         (None, 483)               329507    \n",
      "=================================================================\n",
      "Total params: 658,659\n",
      "Trainable params: 658,659\n",
      "Non-trainable params: 0\n",
      "_________________________________________________________________\n"
     ]
    }
   ],
   "source": [
    "autoencoder.summary()"
   ]
  },
  {
   "cell_type": "code",
   "execution_count": 236,
   "id": "0b97f47f",
   "metadata": {},
   "outputs": [
    {
     "name": "stdout",
     "output_type": "stream",
     "text": [
      "Model: \"encoder\"\n",
      "_________________________________________________________________\n",
      "Layer (type)                 Output Shape              Param #   \n",
      "=================================================================\n",
      "dense_79 (Dense)             (None, 400)               193600    \n",
      "_________________________________________________________________\n",
      "dropout (Dropout)            (None, 400)               0         \n",
      "_________________________________________________________________\n",
      "dense_80 (Dense)             (None, 256)               102656    \n",
      "_________________________________________________________________\n",
      "dense_81 (Dense)             (None, 128)               32896     \n",
      "=================================================================\n",
      "Total params: 329,152\n",
      "Trainable params: 329,152\n",
      "Non-trainable params: 0\n",
      "_________________________________________________________________\n"
     ]
    }
   ],
   "source": [
    "autoencoder.encoder.summary()"
   ]
  },
  {
   "cell_type": "code",
   "execution_count": 248,
   "id": "37018780",
   "metadata": {},
   "outputs": [],
   "source": [
    "encoded_dna = autoencoder.encoder(dna_inputs).numpy()"
   ]
  },
  {
   "cell_type": "code",
   "execution_count": 249,
   "id": "284e8faa",
   "metadata": {},
   "outputs": [
    {
     "data": {
      "text/plain": [
       "(3099, 128)"
      ]
     },
     "execution_count": 249,
     "metadata": {},
     "output_type": "execute_result"
    }
   ],
   "source": [
    "encoded_dna.shape"
   ]
  },
  {
   "cell_type": "markdown",
   "id": "99f44412",
   "metadata": {},
   "source": [
    "## 10/27/2021\n",
    "* Try to adjust bottleneck down to 64 or 32\n",
    "* Test accuracy of model prediction on test data\n",
    "* Cut encoder off to use for determining latent space\n",
    "* Do same for zinc fingers\n",
    "* feed into LSTM"
   ]
  },
  {
   "cell_type": "code",
   "execution_count": null,
   "id": "620748c7",
   "metadata": {},
   "outputs": [],
   "source": []
  },
  {
   "cell_type": "code",
   "execution_count": 255,
   "id": "cd74ab40",
   "metadata": {},
   "outputs": [
    {
     "name": "stdout",
     "output_type": "stream",
     "text": [
      "Model: \"model_13\"\n",
      "_________________________________________________________________\n",
      "Layer (type)                 Output Shape              Param #   \n",
      "=================================================================\n",
      "dna (InputLayer)             [(None, 1, 128)]          0         \n",
      "_________________________________________________________________\n",
      "dense_89 (Dense)             (None, 1, 1024)           132096    \n",
      "_________________________________________________________________\n",
      "dense_90 (Dense)             (None, 1, 180)            184500    \n",
      "=================================================================\n",
      "Total params: 316,596\n",
      "Trainable params: 316,596\n",
      "Non-trainable params: 0\n",
      "_________________________________________________________________\n"
     ]
    }
   ],
   "source": [
    "inputs = K.layers.Input(shape=(1, encoded_dna.shape[1]), name=\"dna\")\n",
    "#lstm1 = K.layers.LSTM(128)(inputs)\n",
    "dense1 = K.layers.Dense(1024)(inputs)\n",
    "dense2 = K.layers.Dense(f1_outputs.shape[1])(dense1)\n",
    "\n",
    "model = K.models.Model(inputs=[inputs], outputs=[dense2])\n",
    "\n",
    "model.summary()"
   ]
  },
  {
   "cell_type": "markdown",
   "id": "3c3e1792",
   "metadata": {},
   "source": [
    "# Model\n",
    "\n",
    "Takes input one-hot by dictionary of dna domains and predicts the other dictionary of proteins (zinc fingers)"
   ]
  },
  {
   "cell_type": "code",
   "execution_count": 256,
   "id": "9da94d34",
   "metadata": {},
   "outputs": [],
   "source": [
    "opt = K.optimizers.Adam(lr=1e-6)"
   ]
  },
  {
   "cell_type": "code",
   "execution_count": 257,
   "id": "d30e06c9",
   "metadata": {},
   "outputs": [],
   "source": [
    "model.compile(loss='categorical_crossentropy', optimizer=opt)"
   ]
  },
  {
   "cell_type": "code",
   "execution_count": 258,
   "id": "871b62fc",
   "metadata": {},
   "outputs": [
    {
     "data": {
      "text/plain": [
       "(3099, 180)"
      ]
     },
     "execution_count": 258,
     "metadata": {},
     "output_type": "execute_result"
    }
   ],
   "source": [
    "f1_outputs.shape"
   ]
  },
  {
   "cell_type": "code",
   "execution_count": 259,
   "id": "4856ae0e",
   "metadata": {},
   "outputs": [
    {
     "name": "stdout",
     "output_type": "stream",
     "text": [
      "Epoch 1/20\n",
      "97/97 [==============================] - 4s 36ms/step - loss: 12.6376\n",
      "Epoch 2/20\n",
      "97/97 [==============================] - 4s 42ms/step - loss: 10.3984\n",
      "Epoch 3/20\n",
      "97/97 [==============================] - 4s 45ms/step - loss: 9.5043\n",
      "Epoch 4/20\n",
      "97/97 [==============================] - 4s 45ms/step - loss: 9.7737\n",
      "Epoch 5/20\n",
      "97/97 [==============================] - 4s 38ms/step - loss: 9.4839\n",
      "Epoch 6/20\n",
      "97/97 [==============================] - 5s 46ms/step - loss: 9.2016\n",
      "Epoch 7/20\n",
      "97/97 [==============================] - 4s 46ms/step - loss: 9.1035\n",
      "Epoch 8/20\n",
      "97/97 [==============================] - 3s 30ms/step - loss: 9.3093\n",
      "Epoch 9/20\n",
      "97/97 [==============================] - 3s 34ms/step - loss: 8.4961\n",
      "Epoch 10/20\n",
      "97/97 [==============================] - 4s 45ms/step - loss: 8.6891\n",
      "Epoch 11/20\n",
      "97/97 [==============================] - 3s 30ms/step - loss: 8.5902\n",
      "Epoch 12/20\n",
      "97/97 [==============================] - 4s 43ms/step - loss: 8.2942\n",
      "Epoch 13/20\n",
      "97/97 [==============================] - 4s 37ms/step - loss: 8.3312\n",
      "Epoch 14/20\n",
      "97/97 [==============================] - 3s 35ms/step - loss: 7.9327\n",
      "Epoch 15/20\n",
      "97/97 [==============================] - 5s 47ms/step - loss: 7.9701\n",
      "Epoch 16/20\n",
      "97/97 [==============================] - 4s 43ms/step - loss: 8.3615\n",
      "Epoch 17/20\n",
      "97/97 [==============================] - 4s 45ms/step - loss: 8.5941\n",
      "Epoch 18/20\n",
      "97/97 [==============================] - 4s 40ms/step - loss: 8.2463\n",
      "Epoch 19/20\n",
      "97/97 [==============================] - 4s 44ms/step - loss: 7.8627\n",
      "Epoch 20/20\n",
      "97/97 [==============================] - 4s 43ms/step - loss: 7.9211\n"
     ]
    },
    {
     "data": {
      "text/plain": [
       "<tensorflow.python.keras.callbacks.History at 0x7f2348225640>"
      ]
     },
     "execution_count": 259,
     "metadata": {},
     "output_type": "execute_result"
    }
   ],
   "source": [
    "model.fit(np.expand_dims(encoded_dna.astype('float32'),1),np.expand_dims(f1_outputs.astype('float32'),1), epochs=20)"
   ]
  },
  {
   "cell_type": "markdown",
   "id": "efbbe1b6",
   "metadata": {},
   "source": [
    "## 11/3/2021 Next time\n",
    "* Do autoencoder on output too\n",
    "* Try more complex model (LSTM?)\n",
    "* Variable learning rate (learning rate scheduler)\n",
    "* "
   ]
  },
  {
   "cell_type": "code",
   "execution_count": 104,
   "id": "fbd3030e",
   "metadata": {},
   "outputs": [],
   "source": [
    "pwm = np.array([[-5.7, -3.2, 3.7, -3.2, 3.7, 0.6],\n",
    "               [0.5, -3.2, -3.2, -3.2, -3.2, -5.7],\n",
    "               [0.5, 3.7, -3.2, -3.2, -3.2, -5.7],\n",
    "               [-5.7, -3.2, -3.2, 3.7, -3.2, 0.5]])"
   ]
  },
  {
   "cell_type": "code",
   "execution_count": 105,
   "id": "64a83c1c",
   "metadata": {},
   "outputs": [
    {
     "data": {
      "text/plain": [
       "array([[-5.7, -3.2,  3.7, -3.2,  3.7,  0.6],\n",
       "       [ 0.5, -3.2, -3.2, -3.2, -3.2, -5.7],\n",
       "       [ 0.5,  3.7, -3.2, -3.2, -3.2, -5.7],\n",
       "       [-5.7, -3.2, -3.2,  3.7, -3.2,  0.5]])"
      ]
     },
     "execution_count": 105,
     "metadata": {},
     "output_type": "execute_result"
    }
   ],
   "source": [
    "pwm"
   ]
  },
  {
   "cell_type": "code",
   "execution_count": 177,
   "id": "65bcb282",
   "metadata": {},
   "outputs": [],
   "source": [
    "seq = np.array([[0,0,1,0],\n",
    "              [0,1,0,0],\n",
    "              [1,0,0,0],\n",
    "              [0,0,0,1],\n",
    "              [0,0,0,1],\n",
    "              [1,0,0,0],\n",
    "              [0,1,0,0],\n",
    "              [0,1,0,0],\n",
    "              [0,0,1,0],\n",
    "              [1,0,0,0],\n",
    "              [0,0,0,1],\n",
    "              [1,0,0,0],\n",
    "              [1,0,0,0]])"
   ]
  },
  {
   "cell_type": "code",
   "execution_count": 178,
   "id": "77fdc3ad",
   "metadata": {},
   "outputs": [],
   "source": [
    "seq = seq.T"
   ]
  },
  {
   "cell_type": "code",
   "execution_count": 179,
   "id": "9371d28a",
   "metadata": {},
   "outputs": [
    {
     "data": {
      "text/plain": [
       "(4, 6)"
      ]
     },
     "execution_count": 179,
     "metadata": {},
     "output_type": "execute_result"
    }
   ],
   "source": [
    "pwm.shape"
   ]
  },
  {
   "cell_type": "code",
   "execution_count": 180,
   "id": "82244bf7",
   "metadata": {},
   "outputs": [
    {
     "data": {
      "text/plain": [
       "(4, 13)"
      ]
     },
     "execution_count": 180,
     "metadata": {},
     "output_type": "execute_result"
    }
   ],
   "source": [
    "seq.shape"
   ]
  },
  {
   "cell_type": "code",
   "execution_count": 195,
   "id": "a86aab29",
   "metadata": {},
   "outputs": [
    {
     "data": {
      "text/plain": [
       "array([-11.1, -18. ,  -4.1, -11.1, -11.1,  -4.1, -18. , -18. , -11.1,\n",
       "        -4.1, -11.1,  -4.1,  -4.1])"
      ]
     },
     "execution_count": 195,
     "metadata": {},
     "output_type": "execute_result"
    }
   ],
   "source": [
    "np.sum(np.matmul(seq.T, pwm).T, axis=0)"
   ]
  },
  {
   "cell_type": "code",
   "execution_count": 144,
   "id": "a81eae1e",
   "metadata": {},
   "outputs": [
    {
     "data": {
      "text/plain": [
       "array([0, 0, 1, 0])"
      ]
     },
     "execution_count": 144,
     "metadata": {},
     "output_type": "execute_result"
    }
   ],
   "source": [
    "seq[0,:]"
   ]
  },
  {
   "cell_type": "code",
   "execution_count": 143,
   "id": "d96ae2f9",
   "metadata": {},
   "outputs": [
    {
     "data": {
      "text/plain": [
       "array([-5.7,  0.5,  0.5, -5.7])"
      ]
     },
     "execution_count": 143,
     "metadata": {},
     "output_type": "execute_result"
    }
   ],
   "source": [
    "pwm[:,0]"
   ]
  },
  {
   "cell_type": "code",
   "execution_count": 146,
   "id": "ed6027db",
   "metadata": {},
   "outputs": [
    {
     "data": {
      "text/plain": [
       "0.5"
      ]
     },
     "execution_count": 146,
     "metadata": {},
     "output_type": "execute_result"
    }
   ],
   "source": [
    "np.matmul(seq[0,:], pwm[:,0])"
   ]
  },
  {
   "cell_type": "code",
   "execution_count": 147,
   "id": "9af5e817",
   "metadata": {},
   "outputs": [
    {
     "data": {
      "text/plain": [
       "-3.2"
      ]
     },
     "execution_count": 147,
     "metadata": {},
     "output_type": "execute_result"
    }
   ],
   "source": [
    "np.matmul(seq[1,:], pwm[:,1])"
   ]
  },
  {
   "cell_type": "code",
   "execution_count": 148,
   "id": "c5bc0c6f",
   "metadata": {},
   "outputs": [
    {
     "data": {
      "text/plain": [
       "3.7"
      ]
     },
     "execution_count": 148,
     "metadata": {},
     "output_type": "execute_result"
    }
   ],
   "source": [
    "np.matmul(seq[2,:], pwm[:,2])"
   ]
  },
  {
   "cell_type": "code",
   "execution_count": 149,
   "id": "fcd4c07b",
   "metadata": {},
   "outputs": [
    {
     "data": {
      "text/plain": [
       "3.7"
      ]
     },
     "execution_count": 149,
     "metadata": {},
     "output_type": "execute_result"
    }
   ],
   "source": [
    "np.matmul(seq[3,:], pwm[:,3])"
   ]
  },
  {
   "cell_type": "code",
   "execution_count": 150,
   "id": "812c2213",
   "metadata": {},
   "outputs": [
    {
     "data": {
      "text/plain": [
       "-3.2"
      ]
     },
     "execution_count": 150,
     "metadata": {},
     "output_type": "execute_result"
    }
   ],
   "source": [
    "np.matmul(seq[4,:], pwm[:,4])"
   ]
  },
  {
   "cell_type": "code",
   "execution_count": 151,
   "id": "8431c1bb",
   "metadata": {},
   "outputs": [
    {
     "data": {
      "text/plain": [
       "0.6"
      ]
     },
     "execution_count": 151,
     "metadata": {},
     "output_type": "execute_result"
    }
   ],
   "source": [
    "np.matmul(seq[5,:], pwm[:,5])"
   ]
  },
  {
   "cell_type": "code",
   "execution_count": 152,
   "id": "3f874355",
   "metadata": {},
   "outputs": [
    {
     "data": {
      "text/plain": [
       "array([[ 0.5,  3.7, -3.2, -3.2, -3.2, -5.7],\n",
       "       [ 0.5, -3.2, -3.2, -3.2, -3.2, -5.7],\n",
       "       [-5.7, -3.2,  3.7, -3.2,  3.7,  0.6],\n",
       "       [-5.7, -3.2, -3.2,  3.7, -3.2,  0.5],\n",
       "       [-5.7, -3.2, -3.2,  3.7, -3.2,  0.5],\n",
       "       [-5.7, -3.2,  3.7, -3.2,  3.7,  0.6],\n",
       "       [ 0.5, -3.2, -3.2, -3.2, -3.2, -5.7],\n",
       "       [ 0.5, -3.2, -3.2, -3.2, -3.2, -5.7],\n",
       "       [ 0.5,  3.7, -3.2, -3.2, -3.2, -5.7],\n",
       "       [-5.7, -3.2,  3.7, -3.2,  3.7,  0.6],\n",
       "       [-5.7, -3.2, -3.2,  3.7, -3.2,  0.5],\n",
       "       [-5.7, -3.2,  3.7, -3.2,  3.7,  0.6],\n",
       "       [-5.7, -3.2,  3.7, -3.2,  3.7,  0.6]])"
      ]
     },
     "execution_count": 152,
     "metadata": {},
     "output_type": "execute_result"
    }
   ],
   "source": [
    "np.matmul(seq, pwm)"
   ]
  },
  {
   "cell_type": "code",
   "execution_count": 162,
   "id": "f2eb5b09",
   "metadata": {},
   "outputs": [
    {
     "data": {
      "text/plain": [
       "array([ 0.5, -3.2,  3.7,  3.7, -3.2,  0.6])"
      ]
     },
     "execution_count": 162,
     "metadata": {},
     "output_type": "execute_result"
    }
   ],
   "source": [
    "np.diag(np.matmul(seq, pwm))"
   ]
  },
  {
   "cell_type": "code",
   "execution_count": 171,
   "id": "82684465",
   "metadata": {},
   "outputs": [
    {
     "data": {
      "text/plain": [
       "array([ 0.5, -3.2, -3.2,  3.7,  3.7, -5.7])"
      ]
     },
     "execution_count": 171,
     "metadata": {},
     "output_type": "execute_result"
    }
   ],
   "source": [
    "np.diag(np.matmul(seq[1:], pwm))"
   ]
  },
  {
   "cell_type": "code",
   "execution_count": 166,
   "id": "1906b742",
   "metadata": {},
   "outputs": [
    {
     "data": {
      "text/plain": [
       "(13, 4)"
      ]
     },
     "execution_count": 166,
     "metadata": {},
     "output_type": "execute_result"
    }
   ],
   "source": [
    "seq.shape"
   ]
  },
  {
   "cell_type": "code",
   "execution_count": 167,
   "id": "dafd4f5a",
   "metadata": {},
   "outputs": [
    {
     "data": {
      "text/plain": [
       "(4, 6)"
      ]
     },
     "execution_count": 167,
     "metadata": {},
     "output_type": "execute_result"
    }
   ],
   "source": [
    "pwm.shape"
   ]
  },
  {
   "cell_type": "code",
   "execution_count": null,
   "id": "26332160",
   "metadata": {},
   "outputs": [],
   "source": [
    "1x6\n",
    "13x4\n",
    "4x6"
   ]
  },
  {
   "cell_type": "code",
   "execution_count": 175,
   "id": "ff49a8e7",
   "metadata": {},
   "outputs": [
    {
     "data": {
      "text/plain": [
       "array([[ 0.5,  3.7, -3.2, -3.2, -3.2, -5.7],\n",
       "       [ 0.5, -3.2, -3.2, -3.2, -3.2, -5.7],\n",
       "       [-5.7, -3.2,  3.7, -3.2,  3.7,  0.6],\n",
       "       [-5.7, -3.2, -3.2,  3.7, -3.2,  0.5],\n",
       "       [-5.7, -3.2, -3.2,  3.7, -3.2,  0.5],\n",
       "       [-5.7, -3.2,  3.7, -3.2,  3.7,  0.6],\n",
       "       [ 0.5, -3.2, -3.2, -3.2, -3.2, -5.7],\n",
       "       [ 0.5, -3.2, -3.2, -3.2, -3.2, -5.7],\n",
       "       [ 0.5,  3.7, -3.2, -3.2, -3.2, -5.7],\n",
       "       [-5.7, -3.2,  3.7, -3.2,  3.7,  0.6],\n",
       "       [-5.7, -3.2, -3.2,  3.7, -3.2,  0.5],\n",
       "       [-5.7, -3.2,  3.7, -3.2,  3.7,  0.6],\n",
       "       [-5.7, -3.2,  3.7, -3.2,  3.7,  0.6]])"
      ]
     },
     "execution_count": 175,
     "metadata": {},
     "output_type": "execute_result"
    }
   ],
   "source": [
    "np.matmul(seq, pwm)"
   ]
  },
  {
   "cell_type": "code",
   "execution_count": null,
   "id": "2712d49a",
   "metadata": {},
   "outputs": [],
   "source": [
    "# https://davetang.org/muse/2013/10/01/position-weight-matrix/\n",
    "# https://en.wikipedia.org/wiki/Zinc_finger#/media/File:Zinc_finger_rendered.png\n",
    "# https://en.wikipedia.org/wiki/Zinc_finger_nuclease\n"
   ]
  }
 ],
 "metadata": {
  "kernelspec": {
   "display_name": "Python 3",
   "language": "python",
   "name": "python3"
  },
  "language_info": {
   "codemirror_mode": {
    "name": "ipython",
    "version": 3
   },
   "file_extension": ".py",
   "mimetype": "text/x-python",
   "name": "python",
   "nbconvert_exporter": "python",
   "pygments_lexer": "ipython3",
   "version": "3.9.6"
  }
 },
 "nbformat": 4,
 "nbformat_minor": 5
}
